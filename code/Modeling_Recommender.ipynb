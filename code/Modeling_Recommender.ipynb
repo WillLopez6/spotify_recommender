{
 "cells": [
  {
   "cell_type": "markdown",
   "id": "68a86362-4823-4bb5-a6b5-cdd9b99e420a",
   "metadata": {},
   "source": [
    "# Recommender Model"
   ]
  },
  {
   "cell_type": "markdown",
   "id": "04604fd8-495e-4f35-b75c-0df433bf52d9",
   "metadata": {},
   "source": [
    "### Problem Statement"
   ]
  },
  {
   "cell_type": "markdown",
   "id": "95b3bba6-a004-4d04-9248-8971b8e0643c",
   "metadata": {},
   "source": [
    "Recently, Spotify has decided to try and improve the recommendation system used by their current app by implementing something that is more content-based. As a data scientist I was hired to create a recommender that recommends songs based on Artist and Song Title, additionally I am to include a similar time frame for the release year of the song. Spotify requested that I focus on song features like Danceability, Instrumentalness, Popularity of the song, etc. The goal is to improve the listener experience to make the application more appealing than other competitors like Apple Music and TIDAL by creating a model that analyzes the characteristics of the tracks and creates more niche recommendations that enhance the user experience."
   ]
  },
  {
   "cell_type": "markdown",
   "id": "d5de814b-1e6e-4d1a-a7b0-3fd41398bf14",
   "metadata": {},
   "source": [
    "#### Imports and Reading in Data"
   ]
  },
  {
   "cell_type": "code",
   "execution_count": 1,
   "id": "50136189-4a8f-4652-be02-9ea41a1a6a90",
   "metadata": {},
   "outputs": [],
   "source": [
    "import pandas as pd\n",
    "import numpy as np\n",
    "from sklearn.preprocessing import MinMaxScaler\n",
    "from sklearn.metrics.pairwise import cosine_similarity, pairwise_distances \n",
    "from sklearn.feature_extraction.text import TfidfVectorizer\n",
    "import re\n",
    "import pickle"
   ]
  },
  {
   "cell_type": "code",
   "execution_count": 2,
   "id": "10349b29-4230-4488-958f-9ad5b6c737e3",
   "metadata": {},
   "outputs": [
    {
     "name": "stdout",
     "output_type": "stream",
     "text": [
      "(8716, 15)\n"
     ]
    },
    {
     "data": {
      "text/html": [
       "<div>\n",
       "<style scoped>\n",
       "    .dataframe tbody tr th:only-of-type {\n",
       "        vertical-align: middle;\n",
       "    }\n",
       "\n",
       "    .dataframe tbody tr th {\n",
       "        vertical-align: top;\n",
       "    }\n",
       "\n",
       "    .dataframe thead th {\n",
       "        text-align: right;\n",
       "    }\n",
       "</style>\n",
       "<table border=\"1\" class=\"dataframe\">\n",
       "  <thead>\n",
       "    <tr style=\"text-align: right;\">\n",
       "      <th></th>\n",
       "      <th>Track</th>\n",
       "      <th>Artist</th>\n",
       "      <th>Genre</th>\n",
       "      <th>Album Title</th>\n",
       "      <th>Album Type</th>\n",
       "      <th>Release Date</th>\n",
       "      <th>Thumbnail</th>\n",
       "      <th>Acousticness</th>\n",
       "      <th>Danceability</th>\n",
       "      <th>Energy</th>\n",
       "      <th>Instrumentalness</th>\n",
       "      <th>Popularity</th>\n",
       "      <th>Speechiness</th>\n",
       "      <th>Track ID</th>\n",
       "      <th>Release Year</th>\n",
       "    </tr>\n",
       "  </thead>\n",
       "  <tbody>\n",
       "    <tr>\n",
       "      <th>0</th>\n",
       "      <td>Shook Ones, Pt. II</td>\n",
       "      <td>Mobb Deep</td>\n",
       "      <td>east coast hip hop, hardcore hip hop, hip hop,...</td>\n",
       "      <td>The Infamous</td>\n",
       "      <td>album</td>\n",
       "      <td>1995-04-25</td>\n",
       "      <td>https://i.scdn.co/image/ab67616d00004851a2203f...</td>\n",
       "      <td>0.0146</td>\n",
       "      <td>0.763</td>\n",
       "      <td>0.786</td>\n",
       "      <td>0.0114</td>\n",
       "      <td>0.787879</td>\n",
       "      <td>0.229</td>\n",
       "      <td>33ZXjLCpiINn8eQIDYEPTD</td>\n",
       "      <td>1995</td>\n",
       "    </tr>\n",
       "    <tr>\n",
       "      <th>1</th>\n",
       "      <td>Hypnotize - 2014 Remaster</td>\n",
       "      <td>The Notorious B.I.G.</td>\n",
       "      <td>east coast hip hop, gangster rap, hardcore hip...</td>\n",
       "      <td>Life After Death (2014 Remastered Edition)</td>\n",
       "      <td>album</td>\n",
       "      <td>1997-03-04</td>\n",
       "      <td>https://i.scdn.co/image/ab67616d00004851fde79b...</td>\n",
       "      <td>0.1450</td>\n",
       "      <td>0.901</td>\n",
       "      <td>0.697</td>\n",
       "      <td>0.0000</td>\n",
       "      <td>0.838384</td>\n",
       "      <td>0.280</td>\n",
       "      <td>7KwZNVEaqikRSBSpyhXK2j</td>\n",
       "      <td>1997</td>\n",
       "    </tr>\n",
       "  </tbody>\n",
       "</table>\n",
       "</div>"
      ],
      "text/plain": [
       "                       Track                Artist  \\\n",
       "0         Shook Ones, Pt. II             Mobb Deep   \n",
       "1  Hypnotize - 2014 Remaster  The Notorious B.I.G.   \n",
       "\n",
       "                                               Genre  \\\n",
       "0  east coast hip hop, hardcore hip hop, hip hop,...   \n",
       "1  east coast hip hop, gangster rap, hardcore hip...   \n",
       "\n",
       "                                  Album Title Album Type Release Date  \\\n",
       "0                                The Infamous      album   1995-04-25   \n",
       "1  Life After Death (2014 Remastered Edition)      album   1997-03-04   \n",
       "\n",
       "                                           Thumbnail  Acousticness  \\\n",
       "0  https://i.scdn.co/image/ab67616d00004851a2203f...        0.0146   \n",
       "1  https://i.scdn.co/image/ab67616d00004851fde79b...        0.1450   \n",
       "\n",
       "   Danceability  Energy  Instrumentalness  Popularity  Speechiness  \\\n",
       "0         0.763   0.786            0.0114    0.787879        0.229   \n",
       "1         0.901   0.697            0.0000    0.838384        0.280   \n",
       "\n",
       "                 Track ID  Release Year  \n",
       "0  33ZXjLCpiINn8eQIDYEPTD          1995  \n",
       "1  7KwZNVEaqikRSBSpyhXK2j          1997  "
      ]
     },
     "execution_count": 2,
     "metadata": {},
     "output_type": "execute_result"
    }
   ],
   "source": [
    "songs = pd.read_csv('../data/clean_data.csv', index_col = 0)\n",
    "print(songs.shape)\n",
    "songs.head(2)"
   ]
  },
  {
   "cell_type": "markdown",
   "id": "058419fe-dbb6-4635-9710-c6acae158405",
   "metadata": {},
   "source": [
    "#### Creating a Track + Artist Column"
   ]
  },
  {
   "cell_type": "code",
   "execution_count": 3,
   "id": "0423c809-cf3f-49a8-81d1-a2f5c703fd5b",
   "metadata": {},
   "outputs": [
    {
     "data": {
      "text/html": [
       "<div>\n",
       "<style scoped>\n",
       "    .dataframe tbody tr th:only-of-type {\n",
       "        vertical-align: middle;\n",
       "    }\n",
       "\n",
       "    .dataframe tbody tr th {\n",
       "        vertical-align: top;\n",
       "    }\n",
       "\n",
       "    .dataframe thead th {\n",
       "        text-align: right;\n",
       "    }\n",
       "</style>\n",
       "<table border=\"1\" class=\"dataframe\">\n",
       "  <thead>\n",
       "    <tr style=\"text-align: right;\">\n",
       "      <th></th>\n",
       "      <th>Track</th>\n",
       "      <th>Artist</th>\n",
       "      <th>Genre</th>\n",
       "      <th>Album Title</th>\n",
       "      <th>Album Type</th>\n",
       "      <th>Release Date</th>\n",
       "      <th>Thumbnail</th>\n",
       "      <th>Acousticness</th>\n",
       "      <th>Danceability</th>\n",
       "      <th>Energy</th>\n",
       "      <th>Instrumentalness</th>\n",
       "      <th>Popularity</th>\n",
       "      <th>Speechiness</th>\n",
       "      <th>Track ID</th>\n",
       "      <th>Release Year</th>\n",
       "    </tr>\n",
       "    <tr>\n",
       "      <th>Track_Artist</th>\n",
       "      <th></th>\n",
       "      <th></th>\n",
       "      <th></th>\n",
       "      <th></th>\n",
       "      <th></th>\n",
       "      <th></th>\n",
       "      <th></th>\n",
       "      <th></th>\n",
       "      <th></th>\n",
       "      <th></th>\n",
       "      <th></th>\n",
       "      <th></th>\n",
       "      <th></th>\n",
       "      <th></th>\n",
       "      <th></th>\n",
       "    </tr>\n",
       "  </thead>\n",
       "  <tbody>\n",
       "    <tr>\n",
       "      <th>Shook Ones, Pt. II -Mobb Deep</th>\n",
       "      <td>Shook Ones, Pt. II</td>\n",
       "      <td>Mobb Deep</td>\n",
       "      <td>east coast hip hop, hardcore hip hop, hip hop,...</td>\n",
       "      <td>The Infamous</td>\n",
       "      <td>album</td>\n",
       "      <td>1995-04-25</td>\n",
       "      <td>https://i.scdn.co/image/ab67616d00004851a2203f...</td>\n",
       "      <td>0.0146</td>\n",
       "      <td>0.763</td>\n",
       "      <td>0.786</td>\n",
       "      <td>0.0114</td>\n",
       "      <td>0.787879</td>\n",
       "      <td>0.229</td>\n",
       "      <td>33ZXjLCpiINn8eQIDYEPTD</td>\n",
       "      <td>1995</td>\n",
       "    </tr>\n",
       "    <tr>\n",
       "      <th>Hypnotize - 2014 Remaster -The Notorious B.I.G.</th>\n",
       "      <td>Hypnotize - 2014 Remaster</td>\n",
       "      <td>The Notorious B.I.G.</td>\n",
       "      <td>east coast hip hop, gangster rap, hardcore hip...</td>\n",
       "      <td>Life After Death (2014 Remastered Edition)</td>\n",
       "      <td>album</td>\n",
       "      <td>1997-03-04</td>\n",
       "      <td>https://i.scdn.co/image/ab67616d00004851fde79b...</td>\n",
       "      <td>0.1450</td>\n",
       "      <td>0.901</td>\n",
       "      <td>0.697</td>\n",
       "      <td>0.0000</td>\n",
       "      <td>0.838384</td>\n",
       "      <td>0.280</td>\n",
       "      <td>7KwZNVEaqikRSBSpyhXK2j</td>\n",
       "      <td>1997</td>\n",
       "    </tr>\n",
       "  </tbody>\n",
       "</table>\n",
       "</div>"
      ],
      "text/plain": [
       "                                                                     Track  \\\n",
       "Track_Artist                                                                 \n",
       "Shook Ones, Pt. II -Mobb Deep                           Shook Ones, Pt. II   \n",
       "Hypnotize - 2014 Remaster -The Notorious B.I.G.  Hypnotize - 2014 Remaster   \n",
       "\n",
       "                                                               Artist  \\\n",
       "Track_Artist                                                            \n",
       "Shook Ones, Pt. II -Mobb Deep                               Mobb Deep   \n",
       "Hypnotize - 2014 Remaster -The Notorious B.I.G.  The Notorious B.I.G.   \n",
       "\n",
       "                                                                                             Genre  \\\n",
       "Track_Artist                                                                                         \n",
       "Shook Ones, Pt. II -Mobb Deep                    east coast hip hop, hardcore hip hop, hip hop,...   \n",
       "Hypnotize - 2014 Remaster -The Notorious B.I.G.  east coast hip hop, gangster rap, hardcore hip...   \n",
       "\n",
       "                                                                                Album Title  \\\n",
       "Track_Artist                                                                                  \n",
       "Shook Ones, Pt. II -Mobb Deep                                                  The Infamous   \n",
       "Hypnotize - 2014 Remaster -The Notorious B.I.G.  Life After Death (2014 Remastered Edition)   \n",
       "\n",
       "                                                Album Type Release Date  \\\n",
       "Track_Artist                                                              \n",
       "Shook Ones, Pt. II -Mobb Deep                        album   1995-04-25   \n",
       "Hypnotize - 2014 Remaster -The Notorious B.I.G.      album   1997-03-04   \n",
       "\n",
       "                                                                                         Thumbnail  \\\n",
       "Track_Artist                                                                                         \n",
       "Shook Ones, Pt. II -Mobb Deep                    https://i.scdn.co/image/ab67616d00004851a2203f...   \n",
       "Hypnotize - 2014 Remaster -The Notorious B.I.G.  https://i.scdn.co/image/ab67616d00004851fde79b...   \n",
       "\n",
       "                                                 Acousticness  Danceability  \\\n",
       "Track_Artist                                                                  \n",
       "Shook Ones, Pt. II -Mobb Deep                          0.0146         0.763   \n",
       "Hypnotize - 2014 Remaster -The Notorious B.I.G.        0.1450         0.901   \n",
       "\n",
       "                                                 Energy  Instrumentalness  \\\n",
       "Track_Artist                                                                \n",
       "Shook Ones, Pt. II -Mobb Deep                     0.786            0.0114   \n",
       "Hypnotize - 2014 Remaster -The Notorious B.I.G.   0.697            0.0000   \n",
       "\n",
       "                                                 Popularity  Speechiness  \\\n",
       "Track_Artist                                                               \n",
       "Shook Ones, Pt. II -Mobb Deep                      0.787879        0.229   \n",
       "Hypnotize - 2014 Remaster -The Notorious B.I.G.    0.838384        0.280   \n",
       "\n",
       "                                                               Track ID  \\\n",
       "Track_Artist                                                              \n",
       "Shook Ones, Pt. II -Mobb Deep                    33ZXjLCpiINn8eQIDYEPTD   \n",
       "Hypnotize - 2014 Remaster -The Notorious B.I.G.  7KwZNVEaqikRSBSpyhXK2j   \n",
       "\n",
       "                                                 Release Year  \n",
       "Track_Artist                                                   \n",
       "Shook Ones, Pt. II -Mobb Deep                            1995  \n",
       "Hypnotize - 2014 Remaster -The Notorious B.I.G.          1997  "
      ]
     },
     "execution_count": 3,
     "metadata": {},
     "output_type": "execute_result"
    }
   ],
   "source": [
    "#First I will create a column that contains the Track title plus the Artist\n",
    "songs['Track_Artist'] = songs['Track'] + ' -' + songs['Artist']\n",
    "\n",
    "#Next I will set the new Column as the Index\n",
    "songs.set_index('Track_Artist', inplace = True)\n",
    "\n",
    "#Finally, I wil check the .head(2) just to make sure it worked\n",
    "songs.head(2)"
   ]
  },
  {
   "cell_type": "markdown",
   "id": "3c1fd64b-af84-4902-8f75-89570db2f77a",
   "metadata": {},
   "source": [
    "#### Model Creation"
   ]
  },
  {
   "cell_type": "markdown",
   "id": "9592f066-ac0d-442b-b650-b1f397b9aa99",
   "metadata": {},
   "source": [
    "Below we will create two functions which will be used for the text found in the index.\n",
    "The first function removes special characters from the text. The second function is used to allow the use of special characters including capitalized letters."
   ]
  },
  {
   "cell_type": "code",
   "execution_count": 4,
   "id": "bb715a6d-93b9-4873-94e3-6c73ab1c7e36",
   "metadata": {},
   "outputs": [],
   "source": [
    "def remove_special_characters(text):\n",
    "    pattern = r'[^a-zA-Z0-9\\s]'\n",
    "    return re.sub(pattern, '', text)\n",
    "\n",
    "def preprocess_input(input_string):\n",
    "    processed_string = remove_special_characters(input_string.lower().strip())\n",
    "    return processed_string"
   ]
  },
  {
   "cell_type": "code",
   "execution_count": 5,
   "id": "56baa104-e772-44ac-89c8-079d424de3c6",
   "metadata": {},
   "outputs": [],
   "source": [
    "# Apply the function to the index (Track_Artist column) to remove special characters\n",
    "songs.index = songs.index.map(remove_special_characters)"
   ]
  },
  {
   "cell_type": "code",
   "execution_count": 6,
   "id": "ef7ae1b5-981f-499b-89d4-b865da70aa1b",
   "metadata": {},
   "outputs": [],
   "source": [
    "# Define a function to recommend songs based on similarity\n",
    "def recommend_song(song_index, similarity_matrix, songs, category, top_n=10):\n",
    "    # Get the similarity scores for the specified song index\n",
    "    similarity_scores = similarity_matrix[song_index]\n",
    "\n",
    "    # Sort the similarity scores in descending order and get the indices\n",
    "    sorted_indices = np.argsort(similarity_scores)[::-1]\n",
    "\n",
    "    recommended_songs = []\n",
    "    count = 0\n",
    "\n",
    "    # Find the recommendations that match the specified category\n",
    "    for index in sorted_indices:\n",
    "        if count >= top_n:\n",
    "            break\n",
    "\n",
    "        song = songs.iloc[index]\n",
    "        if category.lower() == 'track':\n",
    "            recommendation = song.name  # Use the index (Track_Artist) as the recommendation\n",
    "        elif category.lower() == 'artist':\n",
    "            recommendation = song['Artist']\n",
    "        elif category.lower() == 'genre':\n",
    "            recommendation = song['Genre']\n",
    "        elif category.lower() == 'album title':\n",
    "            recommendation = song['Album Title']\n",
    "        else:\n",
    "            continue\n",
    "\n",
    "        # Exclude the original song from the recommendations\n",
    "        if recommendation.lower() != song_name.lower():\n",
    "            recommended_songs.append(song[['Thumbnail', 'Track', 'Artist', 'Album Title', 'Release Year']])\n",
    "            count += 1\n",
    "\n",
    "    # Create a DataFrame from the recommended songs\n",
    "    return pd.DataFrame(recommended_songs)"
   ]
  },
  {
   "cell_type": "markdown",
   "id": "c947d888-31dd-41f4-8a91-7614dee1cebe",
   "metadata": {},
   "source": [
    "Below we will be selecting out features. We are focusing on the numeric features in order to make the recommendations."
   ]
  },
  {
   "cell_type": "code",
   "execution_count": 7,
   "id": "e945bbc2-eff0-41dc-a504-d9932866986b",
   "metadata": {},
   "outputs": [],
   "source": [
    "#We will look at the numeric features of the data for the recommender\n",
    "features = ['Acousticness', 'Danceability', 'Energy', 'Instrumentalness', 'Popularity', 'Speechiness', 'Release Year']"
   ]
  },
  {
   "cell_type": "code",
   "execution_count": 8,
   "id": "67d25161-df0e-4665-a62f-47a8d70d8aeb",
   "metadata": {},
   "outputs": [],
   "source": [
    "#Here we are scaling the numeric features using the MinMaxScaler\n",
    "scaler = MinMaxScaler()\n",
    "normalized_features = scaler.fit_transform(songs[features])"
   ]
  },
  {
   "cell_type": "code",
   "execution_count": 9,
   "id": "932bbc7d-18be-4854-9601-4a83dfa38499",
   "metadata": {},
   "outputs": [],
   "source": [
    "#Here we are applying the TFIDF Vectorizer to the Genre Column\n",
    "tfidf_vectorizer = TfidfVectorizer()\n",
    "genre_matrix = tfidf_vectorizer.fit_transform(songs['Genre'])"
   ]
  },
  {
   "cell_type": "markdown",
   "id": "289f8b1e-523c-44e2-9a82-aa5ea6c26562",
   "metadata": {},
   "source": [
    "*NOTE: The reason we are using a TFIDF Vectorizer on the Genre column is to create more accurate recommendations.  Additionally, since Spotify provides a compilation of genres for most songs we can look at the term frequency for the genre person which helps us with the recommendations. We have two song from the same general genre but spotify will have multiple genres for each song.*"
   ]
  },
  {
   "cell_type": "code",
   "execution_count": 10,
   "id": "6b99b3ef-a224-4080-935d-460de622224a",
   "metadata": {},
   "outputs": [],
   "source": [
    "#Here we are preparing the combined feature matrix by concatinating the normalized numeric features, the genre matrix created using the TFIDF and now the release year\n",
    "release_year = songs['Release Year'].values.reshape(-1, 1)\n",
    "combined_matrix = pd.concat([pd.DataFrame(normalized_features), pd.DataFrame(genre_matrix.toarray()), pd.DataFrame(release_year)], axis=1)"
   ]
  },
  {
   "cell_type": "code",
   "execution_count": 11,
   "id": "9ba61b14-45e8-4a31-a45e-5603fa426304",
   "metadata": {},
   "outputs": [],
   "source": [
    "#Here we are using cosine similarity to compute the similarity matric\n",
    "similarity_matrix = cosine_similarity(combined_matrix, combined_matrix)"
   ]
  },
  {
   "cell_type": "code",
   "execution_count": 12,
   "id": "6c7bbc56-0d10-4c73-9395-2c13ff429444",
   "metadata": {},
   "outputs": [],
   "source": [
    "#Here we are defining a function that will recommend songs based on the similarities from above.\n",
    "def recommend_songs(song_index, similarity_matrix, songs, top_n=10):\n",
    "    song_scores = similarity_matrix[song_index]\n",
    "    top_indices = song_scores.argsort()[::-1][1:top_n+1]\n",
    "    return songs.iloc[top_indices]"
   ]
  },
  {
   "cell_type": "code",
   "execution_count": 13,
   "id": "f16de2fa-015c-4138-a95f-7842089dc841",
   "metadata": {},
   "outputs": [],
   "source": [
    "#Here we are creating the recommender value using relevant information.\n",
    "recommender = {\n",
    "    'similarity_matrix': similarity_matrix,\n",
    "    'songs': songs,\n",
    "    'features': features,\n",
    "    'tfidf_vectorizer': tfidf_vectorizer,\n",
    "}"
   ]
  },
  {
   "cell_type": "code",
   "execution_count": 14,
   "id": "0884943f-01a1-41cc-b583-104f624b1517",
   "metadata": {},
   "outputs": [],
   "source": [
    "#Here we are going to pickle the recommender model\n",
    "#with open('recommender.pkl', 'wb') as file:\n",
    "    #pickle.dump(recommender, file)"
   ]
  },
  {
   "cell_type": "markdown",
   "id": "508a633a-c9d3-49ed-9f29-0f5a9116b3f2",
   "metadata": {},
   "source": [
    "---\n",
    "### Using the Model to Make Recommendations\n",
    "Below we use the model to make recommendations. The model is set up to make recommendations based on song title and artist, song title only, or artist only.  Additionally, the model works with special characters and without them as well thanks to the regex function used above."
   ]
  },
  {
   "cell_type": "markdown",
   "id": "f0195d53-e051-48d3-a8a9-cb7afb755302",
   "metadata": {},
   "source": [
    ">In reference to what is mentioned above, artists like \"A$AP Ferg\" can be looked up using the dollar symbol or by typing \"AAP Ferg\" while excluding the symbol. The capitalization of the letters don't matter just like the example below."
   ]
  },
  {
   "cell_type": "code",
   "execution_count": 14,
   "id": "ecacbf47-25f1-4148-9eea-ea1627279d6c",
   "metadata": {},
   "outputs": [
    {
     "name": "stdout",
     "output_type": "stream",
     "text": [
      "Recommendation for the song: plAiN JaNe by a$aP Ferg\n",
      "                                                       Thumbnail                 Track      Artist                      Album Title  Release Year\n",
      "https://i.scdn.co/image/ab67616d00004851d79cfa3155b50beb5dbeeb9a            Plain Jane   A$AP Ferg                   Still Striving          2017\n",
      "https://i.scdn.co/image/ab67616d00004851b1d860ab1ba847e778b2796d    Hate It Or Love It    The Game                  The Documentary          2005\n",
      "https://i.scdn.co/image/ab67616d00004851f2149422121d1674c6f4c009                 CrasH ScHoolboy Q                       CrasH Talk          2019\n",
      "https://i.scdn.co/image/ab67616d00004851b1d860ab1ba847e778b2796d             How We Do    The Game                  The Documentary          2005\n",
      "https://i.scdn.co/image/ab67616d00004851b1d860ab1ba847e778b2796d        Westside Story    The Game                  The Documentary          2005\n",
      "https://i.scdn.co/image/ab67616d0000485150192d5f728fea13fb3af203 I Don't Fuck With You    Big Sean                Dark Sky Paradise          2015\n",
      "https://i.scdn.co/image/ab67616d000048510bcccf7c7e65f294c2430f9b         I'm Different    2 Chainz Based On A T.R.U. Story (Deluxe)          2012\n",
      "https://i.scdn.co/image/ab67616d00004851e572359074e5da958a922987           Bounce Back    Big Sean                       I Decided.          2017\n",
      "https://i.scdn.co/image/ab67616d00004851c0c05243a846dda6c84607f9           It's A Vibe    2 Chainz     Pretty Girls Like Trap Music          2017\n",
      "https://i.scdn.co/image/ab67616d00004851421938e7d376a06b79eb92e8         Ice Cream Man        Tyga         Fuk Wat They Talkin Bout          2015\n"
     ]
    }
   ],
   "source": [
    "# Enter the song name and artist\n",
    "song_name = \"plAiN JaNe\"\n",
    "artist_name = \"a$aP Ferg\"\n",
    "\n",
    "# Preprocess the song and artist names\n",
    "processed_song_name = preprocess_input(song_name)\n",
    "processed_artist_name = preprocess_input(artist_name)\n",
    "\n",
    "# Find the song index based on the processed song and artist names\n",
    "song_indices = np.where(songs.index.str.lower().str.contains(processed_song_name) & songs.index.str.lower().str.contains(processed_artist_name))[0]\n",
    "if len(song_indices) > 0:\n",
    "    song_index = song_indices[0]\n",
    "\n",
    "    # Set options to display all columns and rows\n",
    "    pd.set_option('display.max_columns', None)\n",
    "    pd.set_option('display.max_rows', None)\n",
    "\n",
    "    # Specify the category for recommendation (e.g., \"track\", \"artist\", \"genre\", \"album title\", etc.)\n",
    "    category = \"track\"\n",
    "\n",
    "    # Print recommendation for the specified song and category\n",
    "    recommendation = recommend_song(song_index, similarity_matrix, songs, category)\n",
    "    if recommendation is not None:\n",
    "        print(\"Recommendation for the song:\", song_name, \"by\", artist_name)\n",
    "        print(recommendation.to_string(index=False))\n",
    "    else:\n",
    "        print(\"No recommendation found for the specified category:\", category)\n",
    "else:\n",
    "    print(\"Song not found:\", song_name, \"by\", artist_name)"
   ]
  },
  {
   "cell_type": "markdown",
   "id": "50aba4f4-6f51-494e-89d4-981b2aa70d7a",
   "metadata": {},
   "source": [
    "In the example below I inputted just the song title without the artist name and it still returns recommendations with high similarities. Although it is the same artist, I think that for someone trying to find similar songs this is great."
   ]
  },
  {
   "cell_type": "code",
   "execution_count": 15,
   "id": "abfee569-ef1f-4cb3-bcf6-418513dca9ac",
   "metadata": {},
   "outputs": [
    {
     "name": "stdout",
     "output_type": "stream",
     "text": [
      "Recommendation for the song:  by mf doom\n",
      "                                                       Thumbnail                                   Track  Artist                      Album Title  Release Year\n",
      "https://i.scdn.co/image/ab67616d000048516ce90ec627a0198a8efd127f                                Doomsday MF DOOM   Operation: Doomsday (Complete)          1999\n",
      "https://i.scdn.co/image/ab67616d000048516ce90ec627a0198a8efd127f                              Gas Drawls MF DOOM   Operation: Doomsday (Complete)          1999\n",
      "https://i.scdn.co/image/ab67616d000048516ce90ec627a0198a8efd127f                        Go With the Flow MF DOOM   Operation: Doomsday (Complete)          1999\n",
      "https://i.scdn.co/image/ab67616d000048516ce90ec627a0198a8efd127f                              The Finest MF DOOM   Operation: Doomsday (Complete)          1999\n",
      "https://i.scdn.co/image/ab67616d0000485152f194d02c39909d1b284799 Rapp Snitch Knishes feat. Mr. Fantastik MF DOOM                        MM...FOOD          2004\n",
      "https://i.scdn.co/image/ab67616d0000485152f194d02c39909d1b284799                               Vomitspit MF DOOM                        MM...FOOD          2004\n",
      "https://i.scdn.co/image/ab67616d0000485152f194d02c39909d1b284799                        Deep Fried Frenz MF DOOM                        MM...FOOD          2004\n",
      "https://i.scdn.co/image/ab67616d0000485194db38dd4ae70973be1a24f4                           All Outta Ale MF DOOM The Prof Meets The SUPER VILLAIN          2002\n",
      "https://i.scdn.co/image/ab67616d000048516ce90ec627a0198a8efd127f                            Red and Gold MF DOOM   Operation: Doomsday (Complete)          1999\n",
      "https://i.scdn.co/image/ab67616d0000485173fcd3730311f6ec3a4326dd                                  ANGELZ MF DOOM                   BORN LIKE THIS          2009\n"
     ]
    }
   ],
   "source": [
    "# Enter the song name and artist\n",
    "song_name = \"\"\n",
    "artist_name = \"mf doom\"\n",
    "\n",
    "# Preprocess the song and artist names\n",
    "processed_song_name = preprocess_input(song_name)\n",
    "processed_artist_name = preprocess_input(artist_name)\n",
    "\n",
    "# Find the song index based on the processed song and artist names\n",
    "song_indices = np.where(songs.index.str.lower().str.contains(processed_song_name) & songs.index.str.lower().str.contains(processed_artist_name))[0]\n",
    "if len(song_indices) > 0:\n",
    "    song_index = song_indices[0]\n",
    "\n",
    "    # Set options to display all columns and rows\n",
    "    pd.set_option('display.max_columns', None)\n",
    "    pd.set_option('display.max_rows', None)\n",
    "\n",
    "    # Specify the category for recommendation (e.g., \"track\", \"artist\", \"genre\", \"album title\", etc.)\n",
    "    category = \"track\"\n",
    "\n",
    "    # Print recommendation for the specified song and category\n",
    "    recommendation = recommend_song(song_index, similarity_matrix, songs, category)\n",
    "    if recommendation is not None:\n",
    "        print(\"Recommendation for the song:\", song_name, \"by\", artist_name)\n",
    "        print(recommendation.to_string(index=False))\n",
    "    else:\n",
    "        print(\"No recommendation found for the specified category:\", category)\n",
    "else:\n",
    "    print(\"Song not found:\", song_name, \"by\", artist_name)"
   ]
  },
  {
   "cell_type": "code",
   "execution_count": 20,
   "id": "a6241de9-cae7-4f50-9bcb-6f845b765eb5",
   "metadata": {},
   "outputs": [
    {
     "name": "stdout",
     "output_type": "stream",
     "text": [
      "Precision: 0.25\n"
     ]
    }
   ],
   "source": [
    "def calculate_precision(recommended_songs, ground_truth):\n",
    "    true_positives = 0\n",
    "    false_positives = 0\n",
    "\n",
    "    for song in recommended_songs:\n",
    "        if song in ground_truth:\n",
    "            true_positives += 1\n",
    "        else:\n",
    "            false_positives += 1\n",
    "\n",
    "    precision = true_positives / (true_positives + false_positives)\n",
    "    return precision\n",
    "\n",
    "# Example usage\n",
    "recommended_songs = ['Vomispit', 'Doomsday', 'Deep Fried Frenz', 'Red and Gold']\n",
    "ground_truth = ['Vomitspit', 'Red and Gold', 'Thats That']\n",
    "\n",
    "precision = calculate_precision(recommended_songs, ground_truth)\n",
    "print(\"Precision:\", precision)"
   ]
  },
  {
   "cell_type": "markdown",
   "id": "ba526968-3b8f-4682-875e-2dbf184ae701",
   "metadata": {},
   "source": [
    "---\n",
    "## Conclusion/Recommendations\n",
    "Based on the two predictions above we received failry similar music recommendations. We can see that searching for an Artist will return anything related to that artist, or something similar. Additionally, we are able to search for a song and an artist and the recommender will return artists within the same genre and similar release years. We know that Spotify does well with their suggestion systems and it is a good way to find a variety of music from different time eras as well as sub-genres and artists. Something that could help improve the Spotify system would be having a main genre and a separate sub-genre section that way it is easier to classify songs as well as analyze the data."
   ]
  },
  {
   "cell_type": "markdown",
   "id": "528c4731-1224-402b-accb-8334a51a8e4e",
   "metadata": {
    "tags": []
   },
   "source": [
    "---\n",
    "### Sources"
   ]
  },
  {
   "cell_type": "markdown",
   "id": "3cf50a53-7185-4033-a75d-bfa681a1d534",
   "metadata": {},
   "source": [
    "- This [StackOverflow Thread](https://stackoverflow.com/questions/54396405/how-can-i-preprocess-nlp-text-lowercase-remove-special-characters-remove-numb) helped me come up with the functions for the text.\n",
    "- The [Machine Learning Geek](https://machinelearninggeek.com/spotify-song-recommender-system-in-python/) article on Spotify Recommenders helped me decide on the numeric features to use as well as some aid in creating the function for the recommender.\n",
    "- I also used this [Towards Data Science](https://towardsdatascience.com/using-cosine-similarity-to-build-a-movie-recommendation-system-ae7f20842599) movie recommender as an idea for my approach to the problem statement.\n",
    "- Lastly, this [video](https://youtu.be/eyEabQRBMQA) provided some aid when writing out the recommend_song function except I added additional information to get the information I need."
   ]
  }
 ],
 "metadata": {
  "kernelspec": {
   "display_name": "Python 3 (ipykernel)",
   "language": "python",
   "name": "python3"
  },
  "language_info": {
   "codemirror_mode": {
    "name": "ipython",
    "version": 3
   },
   "file_extension": ".py",
   "mimetype": "text/x-python",
   "name": "python",
   "nbconvert_exporter": "python",
   "pygments_lexer": "ipython3",
   "version": "3.9.13"
  }
 },
 "nbformat": 4,
 "nbformat_minor": 5
}
