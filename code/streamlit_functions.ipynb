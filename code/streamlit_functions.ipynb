{
 "cells": [
  {
   "cell_type": "markdown",
   "id": "68a86362-4823-4bb5-a6b5-cdd9b99e420a",
   "metadata": {},
   "source": [
    "# Recommender Model"
   ]
  },
  {
   "cell_type": "markdown",
   "id": "04604fd8-495e-4f35-b75c-0df433bf52d9",
   "metadata": {},
   "source": [
    "### Problem Statement"
   ]
  },
  {
   "cell_type": "markdown",
   "id": "95b3bba6-a004-4d04-9248-8971b8e0643c",
   "metadata": {},
   "source": [
    "Recently, Spotify has decided to try and improve the recommendation system used by their current app by implementing something that is more content-based. As a data scientist I was hired to create a recommender that recommends songs based on Artist and Song Title, additionally I am to include a similar time frame for the release year of the song. Spotify requested that I focus on song features like Danceability, Instrumentalness, Popularity of the song, etc. The goal is to improve the listener experience to make the application more appealing than other competitors like Apple Music and TIDAL by creating a model that analyzes the characteristics of the tracks and creates more niche recommendations that enhance the user experience."
   ]
  },
  {
   "cell_type": "markdown",
   "id": "d5de814b-1e6e-4d1a-a7b0-3fd41398bf14",
   "metadata": {},
   "source": [
    "#### Imports and Reading in Data"
   ]
  },
  {
   "cell_type": "code",
   "execution_count": 1,
   "id": "50136189-4a8f-4652-be02-9ea41a1a6a90",
   "metadata": {},
   "outputs": [],
   "source": [
    "import pandas as pd\n",
    "import numpy as np\n",
    "from sklearn.preprocessing import MinMaxScaler\n",
    "from sklearn.metrics.pairwise import cosine_similarity, cosine_distances, pairwise_distances \n",
    "from sklearn.feature_extraction.text import TfidfVectorizer\n",
    "import re\n",
    "import pickle"
   ]
  },
  {
   "cell_type": "code",
   "execution_count": 2,
   "id": "10349b29-4230-4488-958f-9ad5b6c737e3",
   "metadata": {},
   "outputs": [
    {
     "name": "stdout",
     "output_type": "stream",
     "text": [
      "(8716, 15)\n"
     ]
    },
    {
     "data": {
      "text/html": [
       "<div>\n",
       "<style scoped>\n",
       "    .dataframe tbody tr th:only-of-type {\n",
       "        vertical-align: middle;\n",
       "    }\n",
       "\n",
       "    .dataframe tbody tr th {\n",
       "        vertical-align: top;\n",
       "    }\n",
       "\n",
       "    .dataframe thead th {\n",
       "        text-align: right;\n",
       "    }\n",
       "</style>\n",
       "<table border=\"1\" class=\"dataframe\">\n",
       "  <thead>\n",
       "    <tr style=\"text-align: right;\">\n",
       "      <th></th>\n",
       "      <th>Track</th>\n",
       "      <th>Artist</th>\n",
       "      <th>Genre</th>\n",
       "      <th>Album Title</th>\n",
       "      <th>Album Type</th>\n",
       "      <th>Release Date</th>\n",
       "      <th>Thumbnail</th>\n",
       "      <th>Acousticness</th>\n",
       "      <th>Danceability</th>\n",
       "      <th>Energy</th>\n",
       "      <th>Instrumentalness</th>\n",
       "      <th>Popularity</th>\n",
       "      <th>Speechiness</th>\n",
       "      <th>Track ID</th>\n",
       "      <th>Release Year</th>\n",
       "    </tr>\n",
       "  </thead>\n",
       "  <tbody>\n",
       "    <tr>\n",
       "      <th>0</th>\n",
       "      <td>Shook Ones, Pt. II</td>\n",
       "      <td>Mobb Deep</td>\n",
       "      <td>east coast hip hop, hardcore hip hop, hip hop,...</td>\n",
       "      <td>The Infamous</td>\n",
       "      <td>album</td>\n",
       "      <td>1995-04-25</td>\n",
       "      <td>https://i.scdn.co/image/ab67616d00004851a2203f...</td>\n",
       "      <td>0.0146</td>\n",
       "      <td>0.763</td>\n",
       "      <td>0.786</td>\n",
       "      <td>0.0114</td>\n",
       "      <td>0.787879</td>\n",
       "      <td>0.229</td>\n",
       "      <td>33ZXjLCpiINn8eQIDYEPTD</td>\n",
       "      <td>1995</td>\n",
       "    </tr>\n",
       "    <tr>\n",
       "      <th>1</th>\n",
       "      <td>Hypnotize - 2014 Remaster</td>\n",
       "      <td>The Notorious B.I.G.</td>\n",
       "      <td>east coast hip hop, gangster rap, hardcore hip...</td>\n",
       "      <td>Life After Death (2014 Remastered Edition)</td>\n",
       "      <td>album</td>\n",
       "      <td>1997-03-04</td>\n",
       "      <td>https://i.scdn.co/image/ab67616d00004851fde79b...</td>\n",
       "      <td>0.1450</td>\n",
       "      <td>0.901</td>\n",
       "      <td>0.697</td>\n",
       "      <td>0.0000</td>\n",
       "      <td>0.838384</td>\n",
       "      <td>0.280</td>\n",
       "      <td>7KwZNVEaqikRSBSpyhXK2j</td>\n",
       "      <td>1997</td>\n",
       "    </tr>\n",
       "  </tbody>\n",
       "</table>\n",
       "</div>"
      ],
      "text/plain": [
       "                       Track                Artist  \\\n",
       "0         Shook Ones, Pt. II             Mobb Deep   \n",
       "1  Hypnotize - 2014 Remaster  The Notorious B.I.G.   \n",
       "\n",
       "                                               Genre  \\\n",
       "0  east coast hip hop, hardcore hip hop, hip hop,...   \n",
       "1  east coast hip hop, gangster rap, hardcore hip...   \n",
       "\n",
       "                                  Album Title Album Type Release Date  \\\n",
       "0                                The Infamous      album   1995-04-25   \n",
       "1  Life After Death (2014 Remastered Edition)      album   1997-03-04   \n",
       "\n",
       "                                           Thumbnail  Acousticness  \\\n",
       "0  https://i.scdn.co/image/ab67616d00004851a2203f...        0.0146   \n",
       "1  https://i.scdn.co/image/ab67616d00004851fde79b...        0.1450   \n",
       "\n",
       "   Danceability  Energy  Instrumentalness  Popularity  Speechiness  \\\n",
       "0         0.763   0.786            0.0114    0.787879        0.229   \n",
       "1         0.901   0.697            0.0000    0.838384        0.280   \n",
       "\n",
       "                 Track ID  Release Year  \n",
       "0  33ZXjLCpiINn8eQIDYEPTD          1995  \n",
       "1  7KwZNVEaqikRSBSpyhXK2j          1997  "
      ]
     },
     "execution_count": 2,
     "metadata": {},
     "output_type": "execute_result"
    }
   ],
   "source": [
    "songs = pd.read_csv('../data/clean_data.csv', index_col = 0)\n",
    "print(songs.shape)\n",
    "songs.head(2)"
   ]
  },
  {
   "cell_type": "markdown",
   "id": "058419fe-dbb6-4635-9710-c6acae158405",
   "metadata": {},
   "source": [
    "#### Creating a Track + Artist Column"
   ]
  },
  {
   "cell_type": "code",
   "execution_count": 3,
   "id": "0423c809-cf3f-49a8-81d1-a2f5c703fd5b",
   "metadata": {},
   "outputs": [
    {
     "data": {
      "text/html": [
       "<div>\n",
       "<style scoped>\n",
       "    .dataframe tbody tr th:only-of-type {\n",
       "        vertical-align: middle;\n",
       "    }\n",
       "\n",
       "    .dataframe tbody tr th {\n",
       "        vertical-align: top;\n",
       "    }\n",
       "\n",
       "    .dataframe thead th {\n",
       "        text-align: right;\n",
       "    }\n",
       "</style>\n",
       "<table border=\"1\" class=\"dataframe\">\n",
       "  <thead>\n",
       "    <tr style=\"text-align: right;\">\n",
       "      <th></th>\n",
       "      <th>Track</th>\n",
       "      <th>Artist</th>\n",
       "      <th>Genre</th>\n",
       "      <th>Album Title</th>\n",
       "      <th>Album Type</th>\n",
       "      <th>Release Date</th>\n",
       "      <th>Thumbnail</th>\n",
       "      <th>Acousticness</th>\n",
       "      <th>Danceability</th>\n",
       "      <th>Energy</th>\n",
       "      <th>Instrumentalness</th>\n",
       "      <th>Popularity</th>\n",
       "      <th>Speechiness</th>\n",
       "      <th>Track ID</th>\n",
       "      <th>Release Year</th>\n",
       "    </tr>\n",
       "    <tr>\n",
       "      <th>Track_Artist</th>\n",
       "      <th></th>\n",
       "      <th></th>\n",
       "      <th></th>\n",
       "      <th></th>\n",
       "      <th></th>\n",
       "      <th></th>\n",
       "      <th></th>\n",
       "      <th></th>\n",
       "      <th></th>\n",
       "      <th></th>\n",
       "      <th></th>\n",
       "      <th></th>\n",
       "      <th></th>\n",
       "      <th></th>\n",
       "      <th></th>\n",
       "    </tr>\n",
       "  </thead>\n",
       "  <tbody>\n",
       "    <tr>\n",
       "      <th>Shook Ones, Pt. II -Mobb Deep</th>\n",
       "      <td>Shook Ones, Pt. II</td>\n",
       "      <td>Mobb Deep</td>\n",
       "      <td>east coast hip hop, hardcore hip hop, hip hop,...</td>\n",
       "      <td>The Infamous</td>\n",
       "      <td>album</td>\n",
       "      <td>1995-04-25</td>\n",
       "      <td>https://i.scdn.co/image/ab67616d00004851a2203f...</td>\n",
       "      <td>0.0146</td>\n",
       "      <td>0.763</td>\n",
       "      <td>0.786</td>\n",
       "      <td>0.0114</td>\n",
       "      <td>0.787879</td>\n",
       "      <td>0.229</td>\n",
       "      <td>33ZXjLCpiINn8eQIDYEPTD</td>\n",
       "      <td>1995</td>\n",
       "    </tr>\n",
       "    <tr>\n",
       "      <th>Hypnotize - 2014 Remaster -The Notorious B.I.G.</th>\n",
       "      <td>Hypnotize - 2014 Remaster</td>\n",
       "      <td>The Notorious B.I.G.</td>\n",
       "      <td>east coast hip hop, gangster rap, hardcore hip...</td>\n",
       "      <td>Life After Death (2014 Remastered Edition)</td>\n",
       "      <td>album</td>\n",
       "      <td>1997-03-04</td>\n",
       "      <td>https://i.scdn.co/image/ab67616d00004851fde79b...</td>\n",
       "      <td>0.1450</td>\n",
       "      <td>0.901</td>\n",
       "      <td>0.697</td>\n",
       "      <td>0.0000</td>\n",
       "      <td>0.838384</td>\n",
       "      <td>0.280</td>\n",
       "      <td>7KwZNVEaqikRSBSpyhXK2j</td>\n",
       "      <td>1997</td>\n",
       "    </tr>\n",
       "  </tbody>\n",
       "</table>\n",
       "</div>"
      ],
      "text/plain": [
       "                                                                     Track  \\\n",
       "Track_Artist                                                                 \n",
       "Shook Ones, Pt. II -Mobb Deep                           Shook Ones, Pt. II   \n",
       "Hypnotize - 2014 Remaster -The Notorious B.I.G.  Hypnotize - 2014 Remaster   \n",
       "\n",
       "                                                               Artist  \\\n",
       "Track_Artist                                                            \n",
       "Shook Ones, Pt. II -Mobb Deep                               Mobb Deep   \n",
       "Hypnotize - 2014 Remaster -The Notorious B.I.G.  The Notorious B.I.G.   \n",
       "\n",
       "                                                                                             Genre  \\\n",
       "Track_Artist                                                                                         \n",
       "Shook Ones, Pt. II -Mobb Deep                    east coast hip hop, hardcore hip hop, hip hop,...   \n",
       "Hypnotize - 2014 Remaster -The Notorious B.I.G.  east coast hip hop, gangster rap, hardcore hip...   \n",
       "\n",
       "                                                                                Album Title  \\\n",
       "Track_Artist                                                                                  \n",
       "Shook Ones, Pt. II -Mobb Deep                                                  The Infamous   \n",
       "Hypnotize - 2014 Remaster -The Notorious B.I.G.  Life After Death (2014 Remastered Edition)   \n",
       "\n",
       "                                                Album Type Release Date  \\\n",
       "Track_Artist                                                              \n",
       "Shook Ones, Pt. II -Mobb Deep                        album   1995-04-25   \n",
       "Hypnotize - 2014 Remaster -The Notorious B.I.G.      album   1997-03-04   \n",
       "\n",
       "                                                                                         Thumbnail  \\\n",
       "Track_Artist                                                                                         \n",
       "Shook Ones, Pt. II -Mobb Deep                    https://i.scdn.co/image/ab67616d00004851a2203f...   \n",
       "Hypnotize - 2014 Remaster -The Notorious B.I.G.  https://i.scdn.co/image/ab67616d00004851fde79b...   \n",
       "\n",
       "                                                 Acousticness  Danceability  \\\n",
       "Track_Artist                                                                  \n",
       "Shook Ones, Pt. II -Mobb Deep                          0.0146         0.763   \n",
       "Hypnotize - 2014 Remaster -The Notorious B.I.G.        0.1450         0.901   \n",
       "\n",
       "                                                 Energy  Instrumentalness  \\\n",
       "Track_Artist                                                                \n",
       "Shook Ones, Pt. II -Mobb Deep                     0.786            0.0114   \n",
       "Hypnotize - 2014 Remaster -The Notorious B.I.G.   0.697            0.0000   \n",
       "\n",
       "                                                 Popularity  Speechiness  \\\n",
       "Track_Artist                                                               \n",
       "Shook Ones, Pt. II -Mobb Deep                      0.787879        0.229   \n",
       "Hypnotize - 2014 Remaster -The Notorious B.I.G.    0.838384        0.280   \n",
       "\n",
       "                                                               Track ID  \\\n",
       "Track_Artist                                                              \n",
       "Shook Ones, Pt. II -Mobb Deep                    33ZXjLCpiINn8eQIDYEPTD   \n",
       "Hypnotize - 2014 Remaster -The Notorious B.I.G.  7KwZNVEaqikRSBSpyhXK2j   \n",
       "\n",
       "                                                 Release Year  \n",
       "Track_Artist                                                   \n",
       "Shook Ones, Pt. II -Mobb Deep                            1995  \n",
       "Hypnotize - 2014 Remaster -The Notorious B.I.G.          1997  "
      ]
     },
     "execution_count": 3,
     "metadata": {},
     "output_type": "execute_result"
    }
   ],
   "source": [
    "#First I will create a column that contains the Track title plus the Artist\n",
    "songs['Track_Artist'] = songs['Track'] + ' -' + songs['Artist']\n",
    "\n",
    "#Next I will set the new Column as the Index\n",
    "songs.set_index('Track_Artist', inplace = True)\n",
    "\n",
    "#Finally, I wil check the .head(2) just to make sure it worked\n",
    "songs.head(2)"
   ]
  },
  {
   "cell_type": "markdown",
   "id": "3c1fd64b-af84-4902-8f75-89570db2f77a",
   "metadata": {},
   "source": [
    "#### Model Creation"
   ]
  },
  {
   "cell_type": "markdown",
   "id": "9592f066-ac0d-442b-b650-b1f397b9aa99",
   "metadata": {},
   "source": [
    "Below we will create two functions which will be used for the text found in the index.\n",
    "The first function removes special characters from the text. The second function is used to allow the use of special characters including capitalized letters."
   ]
  },
  {
   "cell_type": "code",
   "execution_count": 7,
   "id": "bb715a6d-93b9-4873-94e3-6c73ab1c7e36",
   "metadata": {},
   "outputs": [],
   "source": [
    "def preprocess_input(input_string):\n",
    "    processed_string = re.sub(r'[^a-zA-Z0-9\\s]', '', input_string.lower().strip())\n",
    "    return processed_string\n",
    "\n",
    "def remove_special_characters(text):\n",
    "    pattern = r'[^a-zA-Z0-9\\s]'\n",
    "    return re.sub(pattern, '', text)"
   ]
  },
  {
   "cell_type": "code",
   "execution_count": 8,
   "id": "c96b8991-4e08-4ad0-9397-2769a1bc8f4e",
   "metadata": {},
   "outputs": [],
   "source": [
    "def recommend_song(songs, similarity_matrix, song_name, artist_name, category, top_n=10):\n",
    "    processed_song_name = preprocess_input(song_name)\n",
    "    processed_artist_name = preprocess_input(artist_name)\n",
    "    song_indices = np.where(songs.index.str.lower().str.contains(processed_song_name) & songs.index.str.lower().str.contains(processed_artist_name))[0]\n",
    "    if len(song_indices) > 0:\n",
    "        song_index = song_indices[0]\n",
    "        similarity_scores = similarity_matrix[song_index]\n",
    "        sorted_indices = np.argsort(similarity_scores)[::-1]\n",
    "        recommended_songs = []\n",
    "        count = 0\n",
    "        for index in sorted_indices:\n",
    "            if count >= top_n:\n",
    "                break\n",
    "            song = songs.iloc[index]\n",
    "            if category.lower() == 'track':\n",
    "                recommendation = song.name\n",
    "            elif category.lower() == 'artist':\n",
    "                recommendation = song['Artist']\n",
    "            elif category.lower() == 'genre':\n",
    "                recommendation = song['Genre']\n",
    "            elif category.lower() == 'album title':\n",
    "                recommendation = song['Album Title']\n",
    "            else:\n",
    "                continue\n",
    "            if recommendation.lower() != song_name.lower():\n",
    "                recommended_songs.append(song[['Thumbnail', 'Track', 'Artist', 'Album Title', 'Release Year']])\n",
    "                count += 1\n",
    "        if recommended_songs:\n",
    "            return pd.DataFrame(recommended_songs)\n",
    "        else:\n",
    "            return None\n",
    "    else:\n",
    "        return None"
   ]
  },
  {
   "cell_type": "code",
   "execution_count": 9,
   "id": "138b5e48-239c-4453-ba4c-28510fa5c4a0",
   "metadata": {},
   "outputs": [],
   "source": [
    "def create_recommender():\n",
    "    # Load the data\n",
    "    songs = pd.read_csv('../data/clean_data.csv', index_col=0)\n",
    "    songs['Track_Artist'] = songs['Track'] + ' - ' + songs['Artist']\n",
    "    songs.set_index('Track_Artist', inplace=True)\n",
    "\n",
    "    # Preprocess the data\n",
    "    songs.index = songs.index.map(remove_special_characters)\n",
    "    features = ['Acousticness', 'Danceability', 'Energy', 'Instrumentalness', 'Popularity', 'Speechiness', 'Release Year']\n",
    "    scaler = MinMaxScaler()\n",
    "    normalized_features = scaler.fit_transform(songs[features])\n",
    "    tfidf_vectorizer = TfidfVectorizer()\n",
    "    genre_matrix = tfidf_vectorizer.fit_transform(songs['Genre'])\n",
    "    release_year = songs['Release Year'].values.reshape(-1, 1)\n",
    "    combined_matrix = pd.concat([pd.DataFrame(normalized_features), pd.DataFrame(genre_matrix.toarray()), pd.DataFrame(release_year)], axis=1)\n",
    "    similarity_matrix = cosine_similarity(combined_matrix, combined_matrix)\n",
    "\n",
    "    # Create the recommender dictionary\n",
    "    recommender = {\n",
    "        'songs': songs,\n",
    "        'similarity_matrix': similarity_matrix,\n",
    "        'tfidf_vectorizer': tfidf_vectorizer,\n",
    "    }\n",
    "\n",
    "    return recommender\n",
    "\n",
    "# Create the recommender\n",
    "recommender = create_recommender()"
   ]
  },
  {
   "cell_type": "code",
   "execution_count": 10,
   "id": "ebefd151-0f45-4d4b-9ef2-142aba7dd4b0",
   "metadata": {},
   "outputs": [],
   "source": [
    "# Pickle the recommender\n",
    "with open('rec.pkl', 'wb') as f:\n",
    "    pickle.dump(recommender, f)"
   ]
  },
  {
   "cell_type": "markdown",
   "id": "fe359543-81b9-41ff-a4b8-fdf3785216de",
   "metadata": {},
   "source": [
    "---\n",
    "---"
   ]
  },
  {
   "cell_type": "markdown",
   "id": "289f8b1e-523c-44e2-9a82-aa5ea6c26562",
   "metadata": {},
   "source": [
    "*NOTE: The reason we are using a TFIDF Vectorizer on the Genre column is to create more accurate recommendations.  Additionally, since Spotify provides a compilation of genres for most songs we can look at the term frequency for the genre person which helps us with the recommendations. We have two song from the same general genre but spotify will have multiple genres for each song.*"
   ]
  },
  {
   "cell_type": "markdown",
   "id": "508a633a-c9d3-49ed-9f29-0f5a9116b3f2",
   "metadata": {},
   "source": [
    "---\n",
    "### Using the Model to Make Recommendations\n",
    "Below we use the model to make recommendations. The model is set up to make recommendations based on song title and artist, song title only, or artist only.  Additionally, the model works with special characters and without them as well thanks to the regex function used above."
   ]
  },
  {
   "cell_type": "markdown",
   "id": "f0195d53-e051-48d3-a8a9-cb7afb755302",
   "metadata": {},
   "source": [
    ">In reference to what is mentioned above, artists like \"A$AP Ferg\" can be looked up using the dollar symbol or by typing \"AAP Ferg\" while excluding the symbol. The capitalization of the letters don't matter just like the example below."
   ]
  },
  {
   "cell_type": "markdown",
   "id": "3cf50a53-7185-4033-a75d-bfa681a1d534",
   "metadata": {},
   "source": [
    "- This [StackOverflow Thread](https://stackoverflow.com/questions/54396405/how-can-i-preprocess-nlp-text-lowercase-remove-special-characters-remove-numb) helped me come up with the functions for the text.\n",
    "- The [Machine Learning Geek](https://machinelearninggeek.com/spotify-song-recommender-system-in-python/) article on Spotify Recommenders helped me decide on the numeric features to use as well as some aid in creating the function for the recommender.\n",
    "- I also used this [Towards Data Science](https://towardsdatascience.com/using-cosine-similarity-to-build-a-movie-recommendation-system-ae7f20842599) movie recommender as an idea for my approach to the problem statement.\n",
    "- Lastly, this [video](https://youtu.be/eyEabQRBMQA) provided some aid when writing out the recommend_song function except I added additional information to get the information I need."
   ]
  }
 ],
 "metadata": {
  "kernelspec": {
   "display_name": "Python 3 (ipykernel)",
   "language": "python",
   "name": "python3"
  },
  "language_info": {
   "codemirror_mode": {
    "name": "ipython",
    "version": 3
   },
   "file_extension": ".py",
   "mimetype": "text/x-python",
   "name": "python",
   "nbconvert_exporter": "python",
   "pygments_lexer": "ipython3",
   "version": "3.9.13"
  }
 },
 "nbformat": 4,
 "nbformat_minor": 5
}
