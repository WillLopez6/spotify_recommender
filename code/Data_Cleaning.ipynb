{
 "cells": [
  {
   "cell_type": "markdown",
   "id": "9873b823-5f62-484a-b74c-dabeaf1f0b5d",
   "metadata": {},
   "source": [
    "# Data Cleaning Notebook"
   ]
  },
  {
   "cell_type": "code",
   "execution_count": 1,
   "id": "49990e28-6481-4e89-a48a-3f8d33873c5b",
   "metadata": {},
   "outputs": [],
   "source": [
    "import pandas as pd"
   ]
  },
  {
   "cell_type": "markdown",
   "id": "c6302c86-5b4d-49b6-9403-388a218661a6",
   "metadata": {},
   "source": [
    "Below I will look at my data and perform some cleaning operations to make the data more manageable. This will include dropping any duplicates, any null values, and converting the necessary columns to the right type.(e.g. date to datetime type)"
   ]
  },
  {
   "cell_type": "markdown",
   "id": "503f525d-da1c-46f0-9d0b-36f1192f7b0c",
   "metadata": {},
   "source": [
    "**Below I will get familiar with my data by reading it in and looking at the data types and the columns.**"
   ]
  },
  {
   "cell_type": "code",
   "execution_count": 2,
   "id": "ab9b5763-22f2-42bc-8817-56e089b99580",
   "metadata": {},
   "outputs": [
    {
     "data": {
      "text/html": [
       "<div>\n",
       "<style scoped>\n",
       "    .dataframe tbody tr th:only-of-type {\n",
       "        vertical-align: middle;\n",
       "    }\n",
       "\n",
       "    .dataframe tbody tr th {\n",
       "        vertical-align: top;\n",
       "    }\n",
       "\n",
       "    .dataframe thead th {\n",
       "        text-align: right;\n",
       "    }\n",
       "</style>\n",
       "<table border=\"1\" class=\"dataframe\">\n",
       "  <thead>\n",
       "    <tr style=\"text-align: right;\">\n",
       "      <th></th>\n",
       "      <th>Track</th>\n",
       "      <th>Artist</th>\n",
       "      <th>Genre</th>\n",
       "      <th>Album Title</th>\n",
       "      <th>Album Type</th>\n",
       "      <th>Release Date</th>\n",
       "      <th>Thumbnail</th>\n",
       "      <th>Acousticness</th>\n",
       "      <th>Danceability</th>\n",
       "      <th>Energy</th>\n",
       "      <th>Instrumentalness</th>\n",
       "      <th>Popularity</th>\n",
       "      <th>Speechiness</th>\n",
       "      <th>Track ID</th>\n",
       "    </tr>\n",
       "  </thead>\n",
       "  <tbody>\n",
       "    <tr>\n",
       "      <th>0</th>\n",
       "      <td>Shook Ones, Pt. II</td>\n",
       "      <td>Mobb Deep</td>\n",
       "      <td>east coast hip hop, hardcore hip hop, hip hop,...</td>\n",
       "      <td>The Infamous</td>\n",
       "      <td>album</td>\n",
       "      <td>1995-04-25</td>\n",
       "      <td>https://i.scdn.co/image/ab67616d00004851a2203f...</td>\n",
       "      <td>0.01460</td>\n",
       "      <td>0.763</td>\n",
       "      <td>0.786</td>\n",
       "      <td>0.011400</td>\n",
       "      <td>78</td>\n",
       "      <td>0.229</td>\n",
       "      <td>33ZXjLCpiINn8eQIDYEPTD</td>\n",
       "    </tr>\n",
       "    <tr>\n",
       "      <th>1</th>\n",
       "      <td>Hypnotize - 2014 Remaster</td>\n",
       "      <td>The Notorious B.I.G.</td>\n",
       "      <td>east coast hip hop, gangster rap, hardcore hip...</td>\n",
       "      <td>Life After Death (2014 Remastered Edition)</td>\n",
       "      <td>album</td>\n",
       "      <td>1997-03-04</td>\n",
       "      <td>https://i.scdn.co/image/ab67616d00004851fde79b...</td>\n",
       "      <td>0.14500</td>\n",
       "      <td>0.901</td>\n",
       "      <td>0.697</td>\n",
       "      <td>0.000000</td>\n",
       "      <td>83</td>\n",
       "      <td>0.280</td>\n",
       "      <td>7KwZNVEaqikRSBSpyhXK2j</td>\n",
       "    </tr>\n",
       "    <tr>\n",
       "      <th>2</th>\n",
       "      <td>Ambitionz Az A Ridah</td>\n",
       "      <td>2Pac</td>\n",
       "      <td>g funk, gangster rap, hip hop, rap, west coast...</td>\n",
       "      <td>All Eyez On Me</td>\n",
       "      <td>album</td>\n",
       "      <td>1996-02-13</td>\n",
       "      <td>https://i.scdn.co/image/ab67616d00004851a786ad...</td>\n",
       "      <td>0.00253</td>\n",
       "      <td>0.801</td>\n",
       "      <td>0.908</td>\n",
       "      <td>0.000655</td>\n",
       "      <td>2</td>\n",
       "      <td>0.221</td>\n",
       "      <td>3ssX20QT5c3nA9wk78V1LQ</td>\n",
       "    </tr>\n",
       "    <tr>\n",
       "      <th>3</th>\n",
       "      <td>N.Y. State of Mind</td>\n",
       "      <td>Nas</td>\n",
       "      <td>conscious hip hop, east coast hip hop, gangste...</td>\n",
       "      <td>Illmatic</td>\n",
       "      <td>album</td>\n",
       "      <td>1994-04-19</td>\n",
       "      <td>https://i.scdn.co/image/ab67616d00004851045fc9...</td>\n",
       "      <td>0.03940</td>\n",
       "      <td>0.665</td>\n",
       "      <td>0.910</td>\n",
       "      <td>0.000000</td>\n",
       "      <td>74</td>\n",
       "      <td>0.223</td>\n",
       "      <td>0trHOzAhNpGCsGBEu7dOJo</td>\n",
       "    </tr>\n",
       "    <tr>\n",
       "      <th>4</th>\n",
       "      <td>It Was A Good Day</td>\n",
       "      <td>Ice Cube</td>\n",
       "      <td>conscious hip hop, g funk, gangster rap, hip h...</td>\n",
       "      <td>The Predator</td>\n",
       "      <td>album</td>\n",
       "      <td>1992-11-17</td>\n",
       "      <td>https://i.scdn.co/image/ab67616d00004851994c31...</td>\n",
       "      <td>0.33000</td>\n",
       "      <td>0.798</td>\n",
       "      <td>0.744</td>\n",
       "      <td>0.000106</td>\n",
       "      <td>84</td>\n",
       "      <td>0.136</td>\n",
       "      <td>2qOm7ukLyHUXWyR4ZWLwxA</td>\n",
       "    </tr>\n",
       "  </tbody>\n",
       "</table>\n",
       "</div>"
      ],
      "text/plain": [
       "                       Track                Artist  \\\n",
       "0         Shook Ones, Pt. II             Mobb Deep   \n",
       "1  Hypnotize - 2014 Remaster  The Notorious B.I.G.   \n",
       "2       Ambitionz Az A Ridah                  2Pac   \n",
       "3         N.Y. State of Mind                   Nas   \n",
       "4          It Was A Good Day              Ice Cube   \n",
       "\n",
       "                                               Genre  \\\n",
       "0  east coast hip hop, hardcore hip hop, hip hop,...   \n",
       "1  east coast hip hop, gangster rap, hardcore hip...   \n",
       "2  g funk, gangster rap, hip hop, rap, west coast...   \n",
       "3  conscious hip hop, east coast hip hop, gangste...   \n",
       "4  conscious hip hop, g funk, gangster rap, hip h...   \n",
       "\n",
       "                                  Album Title Album Type Release Date  \\\n",
       "0                                The Infamous      album   1995-04-25   \n",
       "1  Life After Death (2014 Remastered Edition)      album   1997-03-04   \n",
       "2                              All Eyez On Me      album   1996-02-13   \n",
       "3                                    Illmatic      album   1994-04-19   \n",
       "4                                The Predator      album   1992-11-17   \n",
       "\n",
       "                                           Thumbnail  Acousticness  \\\n",
       "0  https://i.scdn.co/image/ab67616d00004851a2203f...       0.01460   \n",
       "1  https://i.scdn.co/image/ab67616d00004851fde79b...       0.14500   \n",
       "2  https://i.scdn.co/image/ab67616d00004851a786ad...       0.00253   \n",
       "3  https://i.scdn.co/image/ab67616d00004851045fc9...       0.03940   \n",
       "4  https://i.scdn.co/image/ab67616d00004851994c31...       0.33000   \n",
       "\n",
       "   Danceability  Energy  Instrumentalness  Popularity  Speechiness  \\\n",
       "0         0.763   0.786          0.011400          78        0.229   \n",
       "1         0.901   0.697          0.000000          83        0.280   \n",
       "2         0.801   0.908          0.000655           2        0.221   \n",
       "3         0.665   0.910          0.000000          74        0.223   \n",
       "4         0.798   0.744          0.000106          84        0.136   \n",
       "\n",
       "                 Track ID  \n",
       "0  33ZXjLCpiINn8eQIDYEPTD  \n",
       "1  7KwZNVEaqikRSBSpyhXK2j  \n",
       "2  3ssX20QT5c3nA9wk78V1LQ  \n",
       "3  0trHOzAhNpGCsGBEu7dOJo  \n",
       "4  2qOm7ukLyHUXWyR4ZWLwxA  "
      ]
     },
     "execution_count": 2,
     "metadata": {},
     "output_type": "execute_result"
    }
   ],
   "source": [
    "df = pd.read_csv('../data/playlist_tracks2.csv')\n",
    "df.head()"
   ]
  },
  {
   "cell_type": "markdown",
   "id": "ce6c0e28-caba-45e5-bd4c-0a1e9acf8ede",
   "metadata": {},
   "source": [
    "Here we will look at the columns to decide how to approach the future cleaning of the data.  We can see that we have a Track ID column which will be useful for removing any duplicate data, the Release Date will be useful for creating a \"Year\" column which will be helpful in the modeling step, additionally the Release Data column needs to be cahnged to a datetime format."
   ]
  },
  {
   "cell_type": "code",
   "execution_count": 3,
   "id": "292c651f-ad90-489c-9d8e-7b22d4a46902",
   "metadata": {},
   "outputs": [
    {
     "data": {
      "text/plain": [
       "Index(['Track', 'Artist', 'Genre', 'Album Title', 'Album Type', 'Release Date',\n",
       "       'Thumbnail', 'Acousticness', 'Danceability', 'Energy',\n",
       "       'Instrumentalness', 'Popularity', 'Speechiness', 'Track ID'],\n",
       "      dtype='object')"
      ]
     },
     "execution_count": 3,
     "metadata": {},
     "output_type": "execute_result"
    }
   ],
   "source": [
    "df.columns"
   ]
  },
  {
   "cell_type": "code",
   "execution_count": 4,
   "id": "4330aaec-75d7-4cf8-aee9-b99d4c90bdd2",
   "metadata": {},
   "outputs": [
    {
     "name": "stdout",
     "output_type": "stream",
     "text": [
      "<class 'pandas.core.frame.DataFrame'>\n",
      "RangeIndex: 13129 entries, 0 to 13128\n",
      "Data columns (total 14 columns):\n",
      " #   Column            Non-Null Count  Dtype  \n",
      "---  ------            --------------  -----  \n",
      " 0   Track             13129 non-null  object \n",
      " 1   Artist            13129 non-null  object \n",
      " 2   Genre             12316 non-null  object \n",
      " 3   Album Title       13129 non-null  object \n",
      " 4   Album Type        13129 non-null  object \n",
      " 5   Release Date      13129 non-null  object \n",
      " 6   Thumbnail         13129 non-null  object \n",
      " 7   Acousticness      13129 non-null  float64\n",
      " 8   Danceability      13129 non-null  float64\n",
      " 9   Energy            13129 non-null  float64\n",
      " 10  Instrumentalness  13129 non-null  float64\n",
      " 11  Popularity        13129 non-null  int64  \n",
      " 12  Speechiness       13129 non-null  float64\n",
      " 13  Track ID          13129 non-null  object \n",
      "dtypes: float64(5), int64(1), object(8)\n",
      "memory usage: 1.4+ MB\n"
     ]
    }
   ],
   "source": [
    "df.info()"
   ]
  },
  {
   "cell_type": "markdown",
   "id": "8f389d83-ec03-431e-b872-0c1908ca086c",
   "metadata": {},
   "source": [
    "---\n",
    "Below I will check for any missing values as well as duplicate values. \n",
    "\n",
    "**NOTE: Since the data was pull from multiple playlists found in Spotify there will be a sum of duplicated values, I knew going into this that this would be an issue so I made sure to gather a variety or artists, genres, and timeframes to make sure that the data is diverse.**"
   ]
  },
  {
   "cell_type": "code",
   "execution_count": 5,
   "id": "764771cc-1853-4ebf-bce9-42f8cf231ac8",
   "metadata": {},
   "outputs": [
    {
     "data": {
      "text/plain": [
       "Track                 0\n",
       "Artist                0\n",
       "Genre               813\n",
       "Album Title           0\n",
       "Album Type            0\n",
       "Release Date          0\n",
       "Thumbnail             0\n",
       "Acousticness          0\n",
       "Danceability          0\n",
       "Energy                0\n",
       "Instrumentalness      0\n",
       "Popularity            0\n",
       "Speechiness           0\n",
       "Track ID              0\n",
       "dtype: int64"
      ]
     },
     "execution_count": 5,
     "metadata": {},
     "output_type": "execute_result"
    }
   ],
   "source": [
    "df.isnull().sum()"
   ]
  },
  {
   "cell_type": "code",
   "execution_count": 6,
   "id": "8abccc69-6686-41cd-b263-b71260d1c2eb",
   "metadata": {},
   "outputs": [
    {
     "data": {
      "text/plain": [
       "3188"
      ]
     },
     "execution_count": 6,
     "metadata": {},
     "output_type": "execute_result"
    }
   ],
   "source": [
    "df['Track ID'].duplicated().sum()"
   ]
  },
  {
   "cell_type": "markdown",
   "id": "2f41e5dd-3a51-4ad5-9164-48a17ebae709",
   "metadata": {},
   "source": [
    "It looks like there are a total or 813 null values in the genre column and a total of 3188 duplicate values in the 'Track ID' column.  The reason I chose to only look at the Track ID is because that is unique to the song, any repetition in that column means that the song was extracted multiple times."
   ]
  },
  {
   "cell_type": "markdown",
   "id": "c2a208b2-3627-4448-9c53-d7ba4a782174",
   "metadata": {},
   "source": [
    "Below I will drop all the duplicate Track ID data and the null values."
   ]
  },
  {
   "cell_type": "code",
   "execution_count": 7,
   "id": "0d0025ee-1ecd-4f53-9945-6a0ae1f7b99d",
   "metadata": {},
   "outputs": [
    {
     "data": {
      "text/plain": [
       "0"
      ]
     },
     "execution_count": 7,
     "metadata": {},
     "output_type": "execute_result"
    }
   ],
   "source": [
    "#Since 'cleaned' is taking a copy of the original dataframe I will use the copy() command to avoid any future warnings about using a slice of the data\n",
    "cleaned = df.drop_duplicates(subset = 'Track ID', keep ='first').copy()\n",
    "cleaned['Track ID'].duplicated().sum()"
   ]
  },
  {
   "cell_type": "code",
   "execution_count": 8,
   "id": "7b6bfd83-4cd7-4ecd-9c52-2e3f69d57da1",
   "metadata": {},
   "outputs": [],
   "source": [
    "cleaned.dropna(subset = ['Genre'], inplace = True)"
   ]
  },
  {
   "cell_type": "code",
   "execution_count": 9,
   "id": "08face3e-5e94-41d3-951d-5d59d75da769",
   "metadata": {},
   "outputs": [
    {
     "data": {
      "text/plain": [
       "Track               0\n",
       "Artist              0\n",
       "Genre               0\n",
       "Album Title         0\n",
       "Album Type          0\n",
       "Release Date        0\n",
       "Thumbnail           0\n",
       "Acousticness        0\n",
       "Danceability        0\n",
       "Energy              0\n",
       "Instrumentalness    0\n",
       "Popularity          0\n",
       "Speechiness         0\n",
       "Track ID            0\n",
       "dtype: int64"
      ]
     },
     "execution_count": 9,
     "metadata": {},
     "output_type": "execute_result"
    }
   ],
   "source": [
    "cleaned.isnull().sum()"
   ]
  },
  {
   "cell_type": "markdown",
   "id": "d0ae7c69-3466-4456-af76-fed0cf99b7e7",
   "metadata": {},
   "source": [
    "**Below I will look at the remaining duplicates but now I am focusing solely on the Track column, there are songs with the same title but different artist for example 'Work' by GangStarr and 'Work' by ASAP Ferg. In order to make sure I don't drop any duplicate song title by a different artist I will drop the songs based on both the Track and Artist column leaving me with the first instance of the song.**"
   ]
  },
  {
   "cell_type": "code",
   "execution_count": 10,
   "id": "af6b5fd5-4fd2-4d21-83ac-a636c367e848",
   "metadata": {},
   "outputs": [
    {
     "data": {
      "text/plain": [
       "858"
      ]
     },
     "execution_count": 10,
     "metadata": {},
     "output_type": "execute_result"
    }
   ],
   "source": [
    "#Like I mentioned above, these are likely duplicated songs with the same song title and different artist.\n",
    "#To be sure I will drop the duplicates using the Track as well as the Artist column as a subset\n",
    "cleaned['Track'].duplicated().sum()"
   ]
  },
  {
   "cell_type": "code",
   "execution_count": 11,
   "id": "3334fde8-437a-4bac-a96c-836a4fad88f9",
   "metadata": {},
   "outputs": [
    {
     "data": {
      "text/plain": [
       "(8716, 14)"
      ]
     },
     "execution_count": 11,
     "metadata": {},
     "output_type": "execute_result"
    }
   ],
   "source": [
    "cleaned.drop_duplicates(subset = ['Track', 'Artist'], keep = 'first', inplace = True)\n",
    "cleaned.shape"
   ]
  },
  {
   "cell_type": "code",
   "execution_count": 12,
   "id": "588a469b-5d10-4990-abbc-8d258ca72b7c",
   "metadata": {},
   "outputs": [
    {
     "name": "stdout",
     "output_type": "stream",
     "text": [
      "<class 'pandas.core.frame.DataFrame'>\n",
      "Int64Index: 8716 entries, 0 to 13128\n",
      "Data columns (total 14 columns):\n",
      " #   Column            Non-Null Count  Dtype  \n",
      "---  ------            --------------  -----  \n",
      " 0   Track             8716 non-null   object \n",
      " 1   Artist            8716 non-null   object \n",
      " 2   Genre             8716 non-null   object \n",
      " 3   Album Title       8716 non-null   object \n",
      " 4   Album Type        8716 non-null   object \n",
      " 5   Release Date      8716 non-null   object \n",
      " 6   Thumbnail         8716 non-null   object \n",
      " 7   Acousticness      8716 non-null   float64\n",
      " 8   Danceability      8716 non-null   float64\n",
      " 9   Energy            8716 non-null   float64\n",
      " 10  Instrumentalness  8716 non-null   float64\n",
      " 11  Popularity        8716 non-null   int64  \n",
      " 12  Speechiness       8716 non-null   float64\n",
      " 13  Track ID          8716 non-null   object \n",
      "dtypes: float64(5), int64(1), object(8)\n",
      "memory usage: 1021.4+ KB\n"
     ]
    }
   ],
   "source": [
    "cleaned.info()"
   ]
  },
  {
   "cell_type": "markdown",
   "id": "765e5208-584f-49c3-8128-ebeaae05e8a2",
   "metadata": {},
   "source": [
    "---\n",
    "Now that I have dealt with the duplicate data and the null values I will work on cleaning up the text and chaging some of the data types."
   ]
  },
  {
   "cell_type": "code",
   "execution_count": 13,
   "id": "8341c4ae-519f-4cd7-a9e5-b89d173e375e",
   "metadata": {},
   "outputs": [],
   "source": [
    "#I will convert the Release Date column to DateTime type. I need to do this to extract the release year for the songs later.\n",
    "cleaned['Release Date'] = pd.to_datetime(cleaned['Release Date'])"
   ]
  },
  {
   "cell_type": "code",
   "execution_count": 14,
   "id": "4a0228b5-16cb-4f6d-aeaa-a258adaf6a22",
   "metadata": {},
   "outputs": [
    {
     "data": {
      "text/html": [
       "<div>\n",
       "<style scoped>\n",
       "    .dataframe tbody tr th:only-of-type {\n",
       "        vertical-align: middle;\n",
       "    }\n",
       "\n",
       "    .dataframe tbody tr th {\n",
       "        vertical-align: top;\n",
       "    }\n",
       "\n",
       "    .dataframe thead th {\n",
       "        text-align: right;\n",
       "    }\n",
       "</style>\n",
       "<table border=\"1\" class=\"dataframe\">\n",
       "  <thead>\n",
       "    <tr style=\"text-align: right;\">\n",
       "      <th></th>\n",
       "      <th>Track</th>\n",
       "      <th>Artist</th>\n",
       "      <th>Genre</th>\n",
       "      <th>Album Title</th>\n",
       "      <th>Album Type</th>\n",
       "      <th>Release Date</th>\n",
       "      <th>Thumbnail</th>\n",
       "      <th>Acousticness</th>\n",
       "      <th>Danceability</th>\n",
       "      <th>Energy</th>\n",
       "      <th>Instrumentalness</th>\n",
       "      <th>Popularity</th>\n",
       "      <th>Speechiness</th>\n",
       "      <th>Track ID</th>\n",
       "      <th>Release Year</th>\n",
       "    </tr>\n",
       "  </thead>\n",
       "  <tbody>\n",
       "    <tr>\n",
       "      <th>0</th>\n",
       "      <td>Shook Ones, Pt. II</td>\n",
       "      <td>Mobb Deep</td>\n",
       "      <td>east coast hip hop, hardcore hip hop, hip hop,...</td>\n",
       "      <td>The Infamous</td>\n",
       "      <td>album</td>\n",
       "      <td>1995-04-25</td>\n",
       "      <td>https://i.scdn.co/image/ab67616d00004851a2203f...</td>\n",
       "      <td>0.01460</td>\n",
       "      <td>0.763</td>\n",
       "      <td>0.786</td>\n",
       "      <td>0.011400</td>\n",
       "      <td>78</td>\n",
       "      <td>0.229</td>\n",
       "      <td>33ZXjLCpiINn8eQIDYEPTD</td>\n",
       "      <td>1995</td>\n",
       "    </tr>\n",
       "    <tr>\n",
       "      <th>1</th>\n",
       "      <td>Hypnotize - 2014 Remaster</td>\n",
       "      <td>The Notorious B.I.G.</td>\n",
       "      <td>east coast hip hop, gangster rap, hardcore hip...</td>\n",
       "      <td>Life After Death (2014 Remastered Edition)</td>\n",
       "      <td>album</td>\n",
       "      <td>1997-03-04</td>\n",
       "      <td>https://i.scdn.co/image/ab67616d00004851fde79b...</td>\n",
       "      <td>0.14500</td>\n",
       "      <td>0.901</td>\n",
       "      <td>0.697</td>\n",
       "      <td>0.000000</td>\n",
       "      <td>83</td>\n",
       "      <td>0.280</td>\n",
       "      <td>7KwZNVEaqikRSBSpyhXK2j</td>\n",
       "      <td>1997</td>\n",
       "    </tr>\n",
       "    <tr>\n",
       "      <th>2</th>\n",
       "      <td>Ambitionz Az A Ridah</td>\n",
       "      <td>2Pac</td>\n",
       "      <td>g funk, gangster rap, hip hop, rap, west coast...</td>\n",
       "      <td>All Eyez On Me</td>\n",
       "      <td>album</td>\n",
       "      <td>1996-02-13</td>\n",
       "      <td>https://i.scdn.co/image/ab67616d00004851a786ad...</td>\n",
       "      <td>0.00253</td>\n",
       "      <td>0.801</td>\n",
       "      <td>0.908</td>\n",
       "      <td>0.000655</td>\n",
       "      <td>2</td>\n",
       "      <td>0.221</td>\n",
       "      <td>3ssX20QT5c3nA9wk78V1LQ</td>\n",
       "      <td>1996</td>\n",
       "    </tr>\n",
       "    <tr>\n",
       "      <th>3</th>\n",
       "      <td>N.Y. State of Mind</td>\n",
       "      <td>Nas</td>\n",
       "      <td>conscious hip hop, east coast hip hop, gangste...</td>\n",
       "      <td>Illmatic</td>\n",
       "      <td>album</td>\n",
       "      <td>1994-04-19</td>\n",
       "      <td>https://i.scdn.co/image/ab67616d00004851045fc9...</td>\n",
       "      <td>0.03940</td>\n",
       "      <td>0.665</td>\n",
       "      <td>0.910</td>\n",
       "      <td>0.000000</td>\n",
       "      <td>74</td>\n",
       "      <td>0.223</td>\n",
       "      <td>0trHOzAhNpGCsGBEu7dOJo</td>\n",
       "      <td>1994</td>\n",
       "    </tr>\n",
       "    <tr>\n",
       "      <th>4</th>\n",
       "      <td>It Was A Good Day</td>\n",
       "      <td>Ice Cube</td>\n",
       "      <td>conscious hip hop, g funk, gangster rap, hip h...</td>\n",
       "      <td>The Predator</td>\n",
       "      <td>album</td>\n",
       "      <td>1992-11-17</td>\n",
       "      <td>https://i.scdn.co/image/ab67616d00004851994c31...</td>\n",
       "      <td>0.33000</td>\n",
       "      <td>0.798</td>\n",
       "      <td>0.744</td>\n",
       "      <td>0.000106</td>\n",
       "      <td>84</td>\n",
       "      <td>0.136</td>\n",
       "      <td>2qOm7ukLyHUXWyR4ZWLwxA</td>\n",
       "      <td>1992</td>\n",
       "    </tr>\n",
       "  </tbody>\n",
       "</table>\n",
       "</div>"
      ],
      "text/plain": [
       "                       Track                Artist  \\\n",
       "0         Shook Ones, Pt. II             Mobb Deep   \n",
       "1  Hypnotize - 2014 Remaster  The Notorious B.I.G.   \n",
       "2       Ambitionz Az A Ridah                  2Pac   \n",
       "3         N.Y. State of Mind                   Nas   \n",
       "4          It Was A Good Day              Ice Cube   \n",
       "\n",
       "                                               Genre  \\\n",
       "0  east coast hip hop, hardcore hip hop, hip hop,...   \n",
       "1  east coast hip hop, gangster rap, hardcore hip...   \n",
       "2  g funk, gangster rap, hip hop, rap, west coast...   \n",
       "3  conscious hip hop, east coast hip hop, gangste...   \n",
       "4  conscious hip hop, g funk, gangster rap, hip h...   \n",
       "\n",
       "                                  Album Title Album Type Release Date  \\\n",
       "0                                The Infamous      album   1995-04-25   \n",
       "1  Life After Death (2014 Remastered Edition)      album   1997-03-04   \n",
       "2                              All Eyez On Me      album   1996-02-13   \n",
       "3                                    Illmatic      album   1994-04-19   \n",
       "4                                The Predator      album   1992-11-17   \n",
       "\n",
       "                                           Thumbnail  Acousticness  \\\n",
       "0  https://i.scdn.co/image/ab67616d00004851a2203f...       0.01460   \n",
       "1  https://i.scdn.co/image/ab67616d00004851fde79b...       0.14500   \n",
       "2  https://i.scdn.co/image/ab67616d00004851a786ad...       0.00253   \n",
       "3  https://i.scdn.co/image/ab67616d00004851045fc9...       0.03940   \n",
       "4  https://i.scdn.co/image/ab67616d00004851994c31...       0.33000   \n",
       "\n",
       "   Danceability  Energy  Instrumentalness  Popularity  Speechiness  \\\n",
       "0         0.763   0.786          0.011400          78        0.229   \n",
       "1         0.901   0.697          0.000000          83        0.280   \n",
       "2         0.801   0.908          0.000655           2        0.221   \n",
       "3         0.665   0.910          0.000000          74        0.223   \n",
       "4         0.798   0.744          0.000106          84        0.136   \n",
       "\n",
       "                 Track ID  Release Year  \n",
       "0  33ZXjLCpiINn8eQIDYEPTD          1995  \n",
       "1  7KwZNVEaqikRSBSpyhXK2j          1997  \n",
       "2  3ssX20QT5c3nA9wk78V1LQ          1996  \n",
       "3  0trHOzAhNpGCsGBEu7dOJo          1994  \n",
       "4  2qOm7ukLyHUXWyR4ZWLwxA          1992  "
      ]
     },
     "execution_count": 14,
     "metadata": {},
     "output_type": "execute_result"
    }
   ],
   "source": [
    "cleaned['Release Year'] = cleaned['Release Date'].dt.year\n",
    "cleaned.head()"
   ]
  },
  {
   "cell_type": "markdown",
   "id": "e2c43abb-97bf-4277-96b5-4d5a61cfa080",
   "metadata": {},
   "source": [
    "Next, I will be normalizing the numeric columns. \n",
    "\n",
    "NOTE: Of all the numeric columns, the only one that needed to be normalized is Popularity. After looking at the Spotify API Documentation, Popularity is the only column that ranged from 1-100. For uniformity reasons I chose to keep it between 0 and 1 so that all numeric columns match."
   ]
  },
  {
   "cell_type": "code",
   "execution_count": 15,
   "id": "232f578e-3cb0-4324-b518-27d12562f91a",
   "metadata": {},
   "outputs": [
    {
     "data": {
      "text/plain": [
       "0    0.787879\n",
       "1    0.838384\n",
       "2    0.020202\n",
       "3    0.747475\n",
       "4    0.848485\n",
       "Name: Popularity, dtype: float64"
      ]
     },
     "execution_count": 15,
     "metadata": {},
     "output_type": "execute_result"
    }
   ],
   "source": [
    "cleaned['Popularity'] = (cleaned['Popularity'] - cleaned['Popularity'].min()) / (cleaned['Popularity'].max() - cleaned['Popularity'].min())\n",
    "cleaned['Popularity'].head()"
   ]
  },
  {
   "cell_type": "markdown",
   "id": "febc51f3-e9c1-4560-bbd2-9b7088325447",
   "metadata": {},
   "source": [
    "*Below I will save the cleaned dataframe as a new csv file that contains the clean data that will be used for EDA and modeling.*\n",
    "\n",
    "Additionally I would like to mention that there will be some text cleaning which will be done during the modeling phase of the project. This is because I will be using Regex to create an additional column that will help ignore special characters in song titles."
   ]
  },
  {
   "cell_type": "code",
   "execution_count": 17,
   "id": "82ecb23e-a472-42b7-86d5-b30e88ea479b",
   "metadata": {},
   "outputs": [],
   "source": [
    "cleaned.to_csv('../data/clean_data.csv')"
   ]
  }
 ],
 "metadata": {
  "kernelspec": {
   "display_name": "Python 3 (ipykernel)",
   "language": "python",
   "name": "python3"
  },
  "language_info": {
   "codemirror_mode": {
    "name": "ipython",
    "version": 3
   },
   "file_extension": ".py",
   "mimetype": "text/x-python",
   "name": "python",
   "nbconvert_exporter": "python",
   "pygments_lexer": "ipython3",
   "version": "3.9.13"
  }
 },
 "nbformat": 4,
 "nbformat_minor": 5
}
