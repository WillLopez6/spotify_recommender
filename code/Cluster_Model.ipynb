{
 "cells": [
  {
   "cell_type": "code",
   "execution_count": 1,
   "id": "afa99255-926c-4242-8411-e6a9926ea15e",
   "metadata": {},
   "outputs": [],
   "source": [
    "import pandas as pd\n",
    "import numpy as np\n",
    "from sklearn.preprocessing import MinMaxScaler\n",
    "from sklearn.cluster import KMeans\n",
    "from sklearn.metrics import silhouette_score"
   ]
  },
  {
   "cell_type": "code",
   "execution_count": 2,
   "id": "0aa21584-c298-4c33-b847-cecc000ee451",
   "metadata": {},
   "outputs": [],
   "source": [
    "# Load the song data\n",
    "songs = pd.read_csv('../data/clean_data.csv', index_col=0)"
   ]
  },
  {
   "cell_type": "code",
   "execution_count": 3,
   "id": "f638fcdb-9a30-4de9-a78d-71ddc9a64c3d",
   "metadata": {},
   "outputs": [],
   "source": [
    "# Select the numeric features for clustering\n",
    "features = ['Acousticness', 'Danceability', 'Energy', 'Instrumentalness', 'Popularity', 'Speechiness', 'Release Year']\n",
    "X = songs[features]"
   ]
  },
  {
   "cell_type": "code",
   "execution_count": 4,
   "id": "70cac623-1e3d-42eb-8f52-6a5caf1b2eb1",
   "metadata": {},
   "outputs": [],
   "source": [
    "# Feature scaling\n",
    "scaler = MinMaxScaler()\n",
    "X_scaled = scaler.fit_transform(X)"
   ]
  },
  {
   "cell_type": "code",
   "execution_count": 5,
   "id": "3d86e9ae-991e-4b42-be87-051767b9bf50",
   "metadata": {},
   "outputs": [],
   "source": [
    "# Hyperparameter tuning\n",
    "best_score = -1\n",
    "best_k = None"
   ]
  },
  {
   "cell_type": "code",
   "execution_count": 6,
   "id": "9d3066ff-373d-423e-bba8-13ca61218ac3",
   "metadata": {},
   "outputs": [],
   "source": [
    "for k in range(2, 11):\n",
    "    # Perform K-means clustering\n",
    "    kmeans = KMeans(n_clusters=k, random_state=42)\n",
    "    labels = kmeans.fit_predict(X_scaled)\n",
    "\n",
    "    # Evaluate clustering using silhouette score\n",
    "    score = silhouette_score(X_scaled, labels)\n",
    "\n",
    "    # Update best score and number of clusters\n",
    "    if score > best_score:\n",
    "        best_score = score\n",
    "        best_k = k"
   ]
  },
  {
   "cell_type": "code",
   "execution_count": 7,
   "id": "2ad66d7e-018e-49d9-8315-cc89b7086642",
   "metadata": {},
   "outputs": [],
   "source": [
    "# Re-fit K-means with the best number of clusters\n",
    "kmeans = KMeans(n_clusters=best_k, random_state=42)\n",
    "labels = kmeans.fit_predict(X_scaled)"
   ]
  },
  {
   "cell_type": "code",
   "execution_count": 8,
   "id": "e11339b8-4063-40d3-9ec7-e40c943cf1b4",
   "metadata": {},
   "outputs": [],
   "source": [
    "# Add cluster assignments to the songs DataFrame\n",
    "songs['Cluster'] = labels"
   ]
  },
  {
   "cell_type": "code",
   "execution_count": 10,
   "id": "71d18c8c-5fc6-48a5-af4a-75e0fb8a9c87",
   "metadata": {},
   "outputs": [
    {
     "name": "stdout",
     "output_type": "stream",
     "text": [
      "                       Track                Artist  Cluster\n",
      "0         Shook Ones, Pt. II             Mobb Deep        1\n",
      "1  Hypnotize - 2014 Remaster  The Notorious B.I.G.        1\n",
      "2       Ambitionz Az A Ridah                  2Pac        1\n",
      "3         N.Y. State of Mind                   Nas        1\n",
      "4          It Was A Good Day              Ice Cube        1\n"
     ]
    }
   ],
   "source": [
    "# Display the cluster assignments\n",
    "print(songs[['Track', 'Artist', 'Cluster']].head())"
   ]
  },
  {
   "cell_type": "code",
   "execution_count": 11,
   "id": "b64e916a-c8d9-453f-ab95-92b9b4ea540b",
   "metadata": {},
   "outputs": [
    {
     "name": "stdout",
     "output_type": "stream",
     "text": [
      "1    5451\n",
      "2    2475\n",
      "0     790\n",
      "Name: Cluster, dtype: int64\n"
     ]
    }
   ],
   "source": [
    "# Count the number of songs in each cluster\n",
    "cluster_counts = songs['Cluster'].value_counts()\n",
    "print(cluster_counts)"
   ]
  },
  {
   "cell_type": "code",
   "execution_count": null,
   "id": "0fe3f9f6-0573-4e40-b778-1e5017a13253",
   "metadata": {},
   "outputs": [],
   "source": []
  }
 ],
 "metadata": {
  "kernelspec": {
   "display_name": "Python 3 (ipykernel)",
   "language": "python",
   "name": "python3"
  },
  "language_info": {
   "codemirror_mode": {
    "name": "ipython",
    "version": 3
   },
   "file_extension": ".py",
   "mimetype": "text/x-python",
   "name": "python",
   "nbconvert_exporter": "python",
   "pygments_lexer": "ipython3",
   "version": "3.9.13"
  }
 },
 "nbformat": 4,
 "nbformat_minor": 5
}
