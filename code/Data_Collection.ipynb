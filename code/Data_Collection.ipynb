{
 "cells": [
  {
   "cell_type": "markdown",
   "id": "40434aba-04a0-4980-a1ce-554fc9297ecb",
   "metadata": {},
   "source": [
    "# Data Collection Notebook"
   ]
  },
  {
   "cell_type": "markdown",
   "id": "ee1dbf53-d4b3-4695-8c26-51663a93f560",
   "metadata": {},
   "source": [
    "#### The imports below are as follows:\n",
    "- spotipy and spotipy.oauth2 are used to connect directly to the Spotify API. spotipy.oauth2 is used to automatically create an authorization code rather than creating one manually. Spotify limits the authorization codes to 3600 seconds, or 1 hour so the oauth2 just allows for automatic creation rather than constantly running an auth code on the side to get credentials to use the API.\n",
    "- Pandas is used to create a data frame, csv, and also read in data, etc.\n",
    "- the Time import is used to create the retries for the API connection.\n",
    "- OS is was used to check pathin existence, in this case we need to make sure the loop was saving the information into the same csv file instead of overwriting it."
   ]
  },
  {
   "cell_type": "code",
   "execution_count": 1,
   "id": "20bbe472-7d2e-4715-90f2-78f61ef822d1",
   "metadata": {},
   "outputs": [],
   "source": [
    "import spotipy\n",
    "import pandas as pd\n",
    "from spotipy.oauth2 import SpotifyClientCredentials\n",
    "import time\n",
    "import os"
   ]
  },
  {
   "cell_type": "code",
   "execution_count": 53,
   "id": "79b5ff98-38b4-4bb0-878f-a0dad71abb97",
   "metadata": {},
   "outputs": [
    {
     "name": "stdout",
     "output_type": "stream",
     "text": [
      "Track information saved to playlist_tracks2.csv.\n"
     ]
    }
   ],
   "source": [
    "# Set up credentials\n",
    "client_id = 'this can be obtained from the spotify for developers site linked at the bottom of this notebook'\n",
    "client_secret = 'this can be obtained from the spotify for developers site linked at the bottom of this notebook'\n",
    "client_credentials_manager = SpotifyClientCredentials(client_id=client_id, client_secret=client_secret)\n",
    "sp = spotipy.Spotify(client_credentials_manager=client_credentials_manager)\n",
    "\n",
    "# Define a list of playlist URIs\n",
    "playlist_uris = ['https://open.spotify.com/playlist/37i9dQZF1DZ06evO3GI3JK?si=285b301156544eb1']\n",
    "\n",
    "# Create an empty list to store track information\n",
    "tracks_data = []\n",
    "\n",
    "# Check if the CSV file exists or create a new DataFrame\n",
    "if os.path.isfile('./data/playlist_tracks2.csv'):\n",
    "    df = pd.read_csv('./data/playlist_tracks2.csv')\n",
    "else:\n",
    "    df = pd.DataFrame(columns=['Track', 'Artist', 'Genre', 'Album Title', 'Album Type', 'Release Date',\n",
    "                               'Thumbnail', 'Acousticness', 'Danceability', 'Energy', 'Instrumentalness',\n",
    "                               'Popularity', 'Speechiness', 'Track ID'])\n",
    "\n",
    "# Iterate over playlist URIs\n",
    "for playlist_uri in playlist_uris:\n",
    "    retries = 3  # Number of retries\n",
    "    while retries > 0:\n",
    "        try:\n",
    "            # Get playlist tracks\n",
    "            results = sp.playlist_tracks(playlist_uri)\n",
    "\n",
    "            # Iterate over tracks\n",
    "            for item in results['items']:\n",
    "                track = item['track']\n",
    "\n",
    "                # Get audio features for the track\n",
    "                audio_features = sp.audio_features(track['id'])[0]\n",
    "\n",
    "                # Get the genre(s) of the track\n",
    "                genres = sp.artist(track['artists'][0]['id'])['genres']\n",
    "                genre = ', '.join(genres) if genres else ''\n",
    "\n",
    "                # Create a dictionary to store track information\n",
    "                track_info = {\n",
    "                    'Track': track['name'],\n",
    "                    'Artist': track['artists'][0]['name'],\n",
    "                    'Genre': genre,\n",
    "                    'Album Title': track['album']['name'],\n",
    "                    'Album Type': track['album']['album_type'],\n",
    "                    'Release Date': track['album']['release_date'],\n",
    "                    'Thumbnail': track['album']['images'][2]['url'],\n",
    "                    'Acousticness': audio_features['acousticness'],\n",
    "                    'Danceability': audio_features['danceability'],\n",
    "                    'Energy': audio_features['energy'],\n",
    "                    'Instrumentalness': audio_features['instrumentalness'],\n",
    "                    'Popularity': track['popularity'],\n",
    "                    'Speechiness': audio_features['speechiness'],\n",
    "                    'Track ID': track['id']\n",
    "                }\n",
    "\n",
    "                # Append track information to the DataFrame\n",
    "                df = pd.concat([df, pd.DataFrame(track_info, index=[0])], ignore_index=True)\n",
    "\n",
    "            # Break out of the retry loop if successful\n",
    "            break\n",
    "\n",
    "        except spotipy.exceptions.SpotifyException as e:\n",
    "            if e.http_status == 429:\n",
    "                retry_after = int(e.headers.get('Retry-After', 10))\n",
    "                print(f\"Rate limit exceeded. Retrying after {retry_after} seconds.\")\n",
    "                time.sleep(retry_after)\n",
    "                retries -= 1\n",
    "                continue\n",
    "\n",
    "# Save the DataFrame to the CSV file\n",
    "df.to_csv('../data/playlist_tracks2.csv', index=False)\n",
    "\n",
    "print(\"Track information saved to playlist_tracks2.csv.\")"
   ]
  },
  {
   "cell_type": "markdown",
   "id": "83a9f34a-520f-4649-8a0d-8772796a4fcc",
   "metadata": {},
   "source": [
    "---\n",
    "## Sources\n",
    "- This [link](https://www.linkedin.com/pulse/extracting-your-fav-playlist-info-spotifys-api-samantha-jones/?utm_source=share&utm_medium=member_ios&utm_campaign=share_via) leads to Samantha Jones Spotify Playlist project. I used her process as an idea for data collection. She mainly focused on creating a playlist using the API, I am extracting data from public playlists using the API.\n",
    "- [Spotify Track Documentation](https://developer.spotify.com/documentation/web-api/reference/get-recommendations)\n",
    "- [Spotify for Developers](https://developer.spotify.com/) is what gives access to the web API along with the additional functions to it."
   ]
  },
  {
   "cell_type": "markdown",
   "id": "f40a6669-368b-4de3-b773-31bfe45b6d85",
   "metadata": {
    "tags": []
   },
   "source": [
    "#### SIDENOTE\n",
    "- This [link](https://gist.github.com/andytlr/4104c667a62d8145aa3a) contains additional information based on genres which makes it easier to format them accordingly to match the Spotify records. \n",
    "    - For example, I was having issues using 'Post-Punk' and 'Hip-Hop' in the beginning but I learned that in order to make calls you need to have the genre names in lowercase with no special characters.\n",
    "    - Spotify also has a call limit of 100 max but it can become an issue so lowering it to 50 seemed to work the best for me, this might differ by user based on the amount of genres you are using at a time and also on how busy the server is."
   ]
  }
 ],
 "metadata": {
  "kernelspec": {
   "display_name": "Python 3 (ipykernel)",
   "language": "python",
   "name": "python3"
  },
  "language_info": {
   "codemirror_mode": {
    "name": "ipython",
    "version": 3
   },
   "file_extension": ".py",
   "mimetype": "text/x-python",
   "name": "python",
   "nbconvert_exporter": "python",
   "pygments_lexer": "ipython3",
   "version": "3.9.13"
  }
 },
 "nbformat": 4,
 "nbformat_minor": 5
}
